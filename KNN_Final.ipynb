{
  "nbformat": 4,
  "nbformat_minor": 0,
  "metadata": {
    "colab": {
      "provenance": [],
      "authorship_tag": "ABX9TyM5JbNS+6sMPGCCVO6N7Q1t",
      "include_colab_link": true
    },
    "kernelspec": {
      "name": "python3",
      "display_name": "Python 3"
    },
    "language_info": {
      "name": "python"
    }
  },
  "cells": [
    {
      "cell_type": "markdown",
      "metadata": {
        "id": "view-in-github",
        "colab_type": "text"
      },
      "source": [
        "<a href=\"https://colab.research.google.com/github/NvdSuni/Thesis-code-complete/blob/main/KNN_Final.ipynb\" target=\"_parent\"><img src=\"https://colab.research.google.com/assets/colab-badge.svg\" alt=\"Open In Colab\"/></a>"
      ]
    },
    {
      "cell_type": "code",
      "execution_count": null,
      "metadata": {
        "id": "Np3hSDYhtslV"
      },
      "outputs": [],
      "source": [
        "from google.colab import drive\n",
        "drive.mount('/content/drive')\n",
        "\n",
        "!pip install optuna\n",
        "!pip install imbalanced-learn\n",
        "\n",
        "import optuna\n",
        "from imblearn.over_sampling import SMOTE\n",
        "import xgboost as xgb\n",
        "import numpy as np\n",
        "import os\n",
        "import matplotlib.pyplot as plt\n",
        "from sklearn.utils import shuffle\n",
        "from sklearn.metrics import accuracy_score, classification_report, roc_auc_score\n",
        "import joblib"
      ]
    },
    {
      "cell_type": "markdown",
      "source": [
        "#Training K-NN"
      ],
      "metadata": {
        "id": "WhigaDjot3vb"
      }
    },
    {
      "cell_type": "code",
      "source": [
        "X_train_combined = np.load(\"/content/drive/My Drive/Tilburg University/Master Thesis/Combined data/X_train_combined.npy\")\n",
        "X_val_combined = np.load(\"/content/drive/My Drive/Tilburg University/Master Thesis/Combined data/X_val_combined.npy\")\n",
        "y_train_combined = np.load(\"/content/drive/My Drive/Tilburg University/Master Thesis/Combined data/y_train_combined.npy\")\n",
        "y_val_combined = np.load(\"/content/drive/My Drive/Tilburg University/Master Thesis/Combined data/y_val_combined.npy\")"
      ],
      "metadata": {
        "id": "uCBi34TItwMb"
      },
      "execution_count": null,
      "outputs": []
    },
    {
      "cell_type": "code",
      "source": [
        "knn = KNeighborsClassifier(n_neighbors=5)\n",
        "\n",
        "knn.fit(X_train_combined, y_train_combined)\n",
        "\n",
        "y_pred_val = knn.predict(X_val_combined)\n",
        "y_pred_proba_val = knn.predict_proba(X_val_combined)\n",
        "\n",
        "\n",
        "accuracy_val = accuracy_score(y_val_combined, y_pred_val)\n",
        "print(f\"Validation Accuracy: {accuracy_val:.2f}\")\n",
        "\n",
        "\n",
        "print(\"Classification Report:\\n\", classification_report(y_val_combined, y_pred_val))\n",
        "\n",
        "roc_auc_val = roc_auc_score(y_val_combined, y_pred_proba_val, multi_class='ovr')\n",
        "print(f\"ROC-AUC Value: {roc_auc_val:.2f}\")\n",
        "\n",
        "\n",
        "joblib.dump(knn, '/content/drive/My Drive/Tilburg University/Master Thesis/Combined data/Models/KNN/KNN.joblib')"
      ],
      "metadata": {
        "id": "Yr8jrzYRtx47"
      },
      "execution_count": null,
      "outputs": []
    },
    {
      "cell_type": "markdown",
      "source": [
        "#Training K-NN Xray"
      ],
      "metadata": {
        "id": "C8_YiMDvuhmN"
      }
    },
    {
      "cell_type": "code",
      "source": [
        "X_train_MRNet = np.load(\"/content/drive/My Drive/Tilburg University/Master Thesis/Combined data/X_train_MRNet_reduced.npy\")\n",
        "X_val_MRNet = np.load(\"/content/drive/My Drive/Tilburg University/Master Thesis/Combined data/X_val_MRNet_reduced.npy\")\n",
        "y_train_MRNet = np.load(\"/content/drive/My Drive/Tilburg University/Master Thesis/Combined data/y_train_MRNet.npy\")\n",
        "y_val_MRNet = np.load(\"/content/drive/My Drive/Tilburg University/Master Thesis/Combined data/y_val_MRNet.npy\")"
      ],
      "metadata": {
        "id": "TRXWNseMt2K7"
      },
      "execution_count": null,
      "outputs": []
    },
    {
      "cell_type": "code",
      "source": [
        "X_train_Xray, y_train_Xray = shuffle(X_train_Xray, y_train_Xray, random_state=42)\n",
        "\n",
        "knn_Xray = KNeighborsClassifier(n_neighbors=5)\n",
        "\n",
        "knn_Xray.fit(X_train_Xray, np.argmax(y_train_Xray, axis=1))\n",
        "\n",
        "y_pred_val_Xray = knn_Xray.predict(X_val_Xray)\n",
        "y_pred_proba_val_Xray = knn_Xray.predict_proba(X_val_Xray)\n",
        "\n",
        "num_classes = y_train_Xray.shape[1]\n",
        "\n",
        "accuracy_val_Xray = accuracy_score(np.argmax(y_val_Xray, axis=1), y_pred_val_Xray)\n",
        "print(f\"X-ray Validation Accuracy: {accuracy_val_Xray:.2f}\")\n",
        "\n",
        "print(\"X-ray Classification Report:\\n\", classification_report(np.argmax(y_val_Xray, axis=1), y_pred_val_Xray))\n",
        "\n",
        "roc_auc_val_Xray = roc_auc_score(y_val_Xray, y_pred_proba_val_Xray, multi_class='ovr')\n",
        "print(f\"X-ray ROC-AUC Value: {roc_auc_val_Xray:.2f}\")\n",
        "\n",
        "joblib.dump(knn_Xray, '/content/drive/My Drive/Tilburg University/Master Thesis/Combined data/Models/KNN/KNN_Xray.joblib')"
      ],
      "metadata": {
        "id": "zHrf-vO9uli0"
      },
      "execution_count": null,
      "outputs": []
    },
    {
      "cell_type": "markdown",
      "source": [
        "#Training K-NN - MRI"
      ],
      "metadata": {
        "id": "Nhq-MDhiur-E"
      }
    },
    {
      "cell_type": "code",
      "source": [
        "X_train_Xray = np.load(\"/content/drive/My Drive/Tilburg University/Master Thesis/Combined data/X_train_Xray_reduced.npy\")\n",
        "X_val_Xray = np.load(\"/content/drive/My Drive/Tilburg University/Master Thesis/Combined data/X_val_Xray_reduced.npy\")\n",
        "y_train_Xray = np.load(\"/content/drive/My Drive/Tilburg University/Master Thesis/Combined data/train_labels_complete_Xray.npy\")\n",
        "y_val_Xray = np.load(\"/content/drive/My Drive/Tilburg University/Master Thesis/Combined data/val_labels_complete_Xray.npy\")"
      ],
      "metadata": {
        "id": "gQUNfXMRurSV"
      },
      "execution_count": null,
      "outputs": []
    },
    {
      "cell_type": "code",
      "source": [
        "X_train_MRNet, y_train_MRNet = shuffle(X_train_MRNet, y_train_MRNet, random_state=42)\n",
        "\n",
        "knn_MRNet = KNeighborsClassifier(n_neighbors=5)\n",
        "\n",
        "knn_MRNet.fit(X_train_MRNet, y_train_MRNet)\n",
        "\n",
        "y_pred_val_MRNet = knn_MRNet.predict(X_val_MRNet)\n",
        "y_pred_proba_val_MRNet = knn_MRNet.predict_proba(X_val_MRNet)[:, 1]\n",
        "\n",
        "accuracy_val_MRNet = accuracy_score(y_val_MRNet, y_pred_val_MRNet)\n",
        "print(f\"MRNet Validation Accuracy: {accuracy_val_MRNet:.2f}\")\n",
        "\n",
        "print(\"MRNet Classification Report:\\n\", classification_report(y_val_MRNet, y_pred_val_MRNet))\n",
        "\n",
        "roc_auc_val_MRNet = roc_auc_score(y_val_MRNet, y_pred_proba_val_MRNet)\n",
        "print(f\"MRNet ROC-AUC Value: {roc_auc_val_MRNet:.2f}\")\n",
        "\n",
        "joblib.dump(knn_MRNet, '/content/drive/My Drive/Tilburg University/Master Thesis/Combined data/Models/KNN/KNN_MRI.joblib')"
      ],
      "metadata": {
        "id": "9FdVeLJNut9c"
      },
      "execution_count": null,
      "outputs": []
    }
  ]
}