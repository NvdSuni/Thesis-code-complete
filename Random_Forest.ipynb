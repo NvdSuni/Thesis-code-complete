{
  "nbformat": 4,
  "nbformat_minor": 0,
  "metadata": {
    "colab": {
      "provenance": [],
      "authorship_tag": "ABX9TyNCYrds19I4+a1/46UKjIG9",
      "include_colab_link": true
    },
    "kernelspec": {
      "name": "python3",
      "display_name": "Python 3"
    },
    "language_info": {
      "name": "python"
    }
  },
  "cells": [
    {
      "cell_type": "markdown",
      "metadata": {
        "id": "view-in-github",
        "colab_type": "text"
      },
      "source": [
        "<a href=\"https://colab.research.google.com/github/NvdSuni/Thesis-code-complete/blob/main/Random_Forest.ipynb\" target=\"_parent\"><img src=\"https://colab.research.google.com/assets/colab-badge.svg\" alt=\"Open In Colab\"/></a>"
      ]
    },
    {
      "cell_type": "code",
      "execution_count": null,
      "metadata": {
        "id": "dTT3_Zs6nlBf"
      },
      "outputs": [],
      "source": [
        "from google.colab import drive\n",
        "drive.mount('/content/drive')\n",
        "\n",
        "!pip install optuna\n",
        "!pip install imbalanced-learn\n",
        "\n",
        "import optuna\n",
        "from imblearn.over_sampling import SMOTE\n",
        "import numpy as np\n",
        "import os\n",
        "import matplotlib.pyplot as plt\n",
        "from sklearn.utils import shuffle\n",
        "from sklearn.metrics import accuracy_score, classification_report, roc_auc_score\n",
        "from sklearn.ensemble import RandomForestClassifier\n",
        "import joblib"
      ]
    },
    {
      "cell_type": "code",
      "source": [
        "from google.colab import drive\n",
        "from imblearn.over_sampling import SMOTE\n",
        "import optuna\n",
        "import numpy as np\n",
        "import os\n",
        "import matplotlib.pyplot as plt\n",
        "from sklearn import __version__ as sklearn_version\n",
        "from sklearn.ensemble import RandomForestClassifier\n",
        "import joblib\n",
        "\n",
        "# Get imbalanced-learn version using the pip package\n",
        "import imblearn\n",
        "imblearn_version = imblearn.__version__\n",
        "\n",
        "# Print versions\n",
        "print(f\"optuna: {optuna.__version__}\")\n",
        "print(f\"imbalanced-learn: {imblearn_version}\")\n",
        "print(f\"numpy: {np.__version__}\")\n",
        "print(f\"matplotlib: {plt.matplotlib.__version__}\")\n",
        "print(f\"scikit-learn: {sklearn_version}\")\n",
        "# print(f\"sklearn.ensemble (RandomForestClassifier): {RandomForestClassifier()._get_tags()['requires_y']}\")\n",
        "print(f\"joblib: {joblib.__version__}\")\n"
      ],
      "metadata": {
        "id": "5GsoYSrano66"
      },
      "execution_count": null,
      "outputs": []
    },
    {
      "cell_type": "code",
      "source": [
        "X_train_combined = np.load(\"/content/drive/My Drive/Tilburg University/Master Thesis/Combined data/X_train_combined.npy\")\n",
        "X_val_combined = np.load(\"/content/drive/My Drive/Tilburg University/Master Thesis/Combined data/X_val_combined.npy\")\n",
        "y_train_combined = np.load(\"/content/drive/My Drive/Tilburg University/Master Thesis/Combined data/y_train_combined.npy\")\n",
        "y_val_combined = np.load(\"/content/drive/My Drive/Tilburg University/Master Thesis/Combined data/y_val_combined.npy\")"
      ],
      "metadata": {
        "id": "flu7HbHunqSa"
      },
      "execution_count": null,
      "outputs": []
    },
    {
      "cell_type": "markdown",
      "source": [
        "#Untrained model"
      ],
      "metadata": {
        "id": "zfeBMpsdnsbK"
      }
    },
    {
      "cell_type": "code",
      "source": [
        "rf_classifier = RandomForestClassifier(n_estimators=100, random_state=42)\n",
        "\n",
        "\n",
        "rf_classifier.fit(X_train_combined, y_train_combined)\n",
        "\n",
        "y_pred = rf_classifier.predict(X_val_combined)\n",
        "\n",
        "\n",
        "accuracy = accuracy_score(y_val_combined, y_pred)\n",
        "print(f\"Accuracy on validation set: {accuracy}\")\n",
        "\n",
        "\n",
        "roc_auc = roc_auc_score(y_val_combined, rf_classifier.predict_proba(X_val_combined), multi_class='ovr')\n",
        "print(f\"ROC-AUC score on validation set: {roc_auc}\")\n",
        "\n",
        "joblib.dump(rf_classifier, \"/content/drive/My Drive/Tilburg University/Master Thesis/Combined data/Models/Random Forest/random_forest_model.joblib\")"
      ],
      "metadata": {
        "id": "mtKWC2Tjnt96"
      },
      "execution_count": null,
      "outputs": []
    },
    {
      "cell_type": "markdown",
      "source": [
        "#Trained model"
      ],
      "metadata": {
        "id": "vfdvjsTUnw8C"
      }
    },
    {
      "cell_type": "code",
      "source": [
        "def objective(trial):\n",
        "    params = {\n",
        "        'n_estimators': trial.suggest_int('n_estimators', 50, 200),\n",
        "        'max_depth': trial.suggest_int('max_depth', 3, 20),\n",
        "        'min_samples_split': trial.suggest_int('min_samples_split', 2, 20),\n",
        "        'min_samples_leaf': trial.suggest_int('min_samples_leaf', 1, 20),\n",
        "        'max_features': trial.suggest_categorical('max_features', ['sqrt', 'log2', None]),\n",
        "        'random_state': 42\n",
        "    }\n",
        "\n",
        "    rf_classifier = RandomForestClassifier(**params)\n",
        "\n",
        "    rf_classifier.fit(X_train_combined, y_train_combined)\n",
        "\n",
        "    y_pred_proba = rf_classifier.predict_proba(X_val_combined)\n",
        "\n",
        "    roc_auc = roc_auc_score(y_val_combined, y_pred_proba, multi_class='ovr', average='macro')\n",
        "    print(f'Trial {trial.number} ROC-AUC: {roc_auc}')\n",
        "\n",
        "    return roc_auc\n",
        "\n",
        "study = optuna.create_study(direction='maximize')\n",
        "The\n",
        "# Optimize the objective function\n",
        "study.optimize(objective, n_trials=200)\n",
        "\n",
        "# Print the best hyperparameters found by Optuna\n",
        "print(\"Best trial:\")\n",
        "trial = study.best_trial\n",
        "print(f\"  Value: {trial.value}\")\n",
        "print(\"  Params: \")\n",
        "for key, value in trial.params.items():\n",
        "    print(f\"    {key}: {value}\")\n",
        "\n",
        "# Use the best hyperparameters to train the final model\n",
        "best_params = study.best_params\n",
        "final_rf_classifier = RandomForestClassifier(**best_params, random_state=42)\n",
        "final_rf_classifier.fit(X_train_combined, y_train_combined)\n",
        "\n",
        "# Make predictions on the validation data for the classification report\n",
        "y_pred = final_rf_classifier.predict(X_val_combined)\n",
        "\n",
        "# Print the classification report\n",
        "print(classification_report(y_val_combined, y_pred))\n",
        "\n",
        "joblib.dump(final_rf_classifier, \"/content/drive/My Drive/Tilburg University/Master Thesis/Combined data/Models/Random Forest/random_forest_model_tuned.joblib\")\n"
      ],
      "metadata": {
        "id": "JJfNIJ2qnybi"
      },
      "execution_count": null,
      "outputs": []
    },
    {
      "cell_type": "markdown",
      "source": [
        "#Class imbalance treated + Tuned"
      ],
      "metadata": {
        "id": "D0HyaWOqoBbU"
      }
    },
    {
      "cell_type": "code",
      "source": [
        "smote = SMOTE(random_state=42)\n",
        "\n",
        "# Fit and transform the data\n",
        "X_train_combined_balanced, y_train_combined_balanced = smote.fit_resample(X_train_combined, y_train_combined)"
      ],
      "metadata": {
        "id": "oltRZdhdoDfq"
      },
      "execution_count": null,
      "outputs": []
    },
    {
      "cell_type": "code",
      "source": [
        "def objective(trial):\n",
        "    params = {\n",
        "        'n_estimators': trial.suggest_int('n_estimators', 50, 200),\n",
        "        'max_depth': trial.suggest_int('max_depth', 3, 20),\n",
        "        'min_samples_split': trial.suggest_int('min_samples_split', 2, 20),\n",
        "        'min_samples_leaf': trial.suggest_int('min_samples_leaf', 1, 20),\n",
        "        'max_features': trial.suggest_categorical('max_features', ['sqrt', 'log2', None]),\n",
        "        'random_state': 42\n",
        "    }\n",
        "\n",
        "    rf_classifier = RandomForestClassifier(**params)\n",
        "\n",
        "    rf_classifier.fit(X_train_combined_balanced, y_train_combined_balanced)\n",
        "\n",
        "    y_pred_proba = rf_classifier.predict_proba(X_val_combined)\n",
        "\n",
        "    roc_auc = roc_auc_score(y_val_combined, y_pred_proba, multi_class='ovr', average='macro')\n",
        "    print(f'Trial {trial.number} ROC-AUC: {roc_auc}')\n",
        "\n",
        "    return roc_auc\n",
        "\n",
        "study = optuna.create_study(direction='maximize')\n",
        "\n",
        "study.optimize(objective, n_trials=200)\n",
        "\n",
        "print(\"Best trial:\")\n",
        "trial = study.best_trial\n",
        "print(f\"  Value: {trial.value}\")\n",
        "print(\"  Params: \")\n",
        "for key, value in trial.params.items():\n",
        "    print(f\"    {key}: {value}\")\n",
        "\n",
        "best_params = study.best_params\n",
        "final_rf_classifier = RandomForestClassifier(**best_params, random_state=42)\n",
        "\n",
        "final_rf_classifier.fit(X_train_combined_balanced, y_train_combined_balanced)\n",
        "\n",
        "y_pred = final_rf_classifier.predict(X_val_combined)\n",
        "\n",
        "print(classification_report(y_val_combined, y_pred))\n",
        "\n",
        "joblib.dump(final_rf_classifier, \"/content/drive/My Drive/Tilburg University/Master Thesis/Combined data/Models/Random Forest/random_forest_model_tuned_smote.joblib\")\n"
      ],
      "metadata": {
        "id": "Ua3dbafwoF9r"
      },
      "execution_count": null,
      "outputs": []
    },
    {
      "cell_type": "markdown",
      "source": [
        "#Xray specific"
      ],
      "metadata": {
        "id": "LoT_2ZUuoNiT"
      }
    },
    {
      "cell_type": "code",
      "source": [
        "X_train_Xray = np.load(\"/content/drive/My Drive/Tilburg University/Master Thesis/Combined data/X_train_Xray_reduced.npy\")\n",
        "X_val_Xray = np.load(\"/content/drive/My Drive/Tilburg University/Master Thesis/Combined data/X_val_Xray_reduced.npy\")\n",
        "y_train_Xray = np.load(\"/content/drive/My Drive/Tilburg University/Master Thesis/Combined data/train_labels_complete_Xray.npy\")\n",
        "y_val_Xray = np.load(\"/content/drive/My Drive/Tilburg University/Master Thesis/Combined data/val_labels_complete_Xray.npy\")"
      ],
      "metadata": {
        "id": "LquvBbMpoPYT"
      },
      "execution_count": null,
      "outputs": []
    },
    {
      "cell_type": "code",
      "source": [
        "X_train_shuffled_Xray, y_train_shuffled_Xray = shuffle(X_train_Xray, y_train_Xray, random_state=42)\n",
        "\n",
        "X_val_shuffled_Xray, y_val_shuffled_Xray = shuffle(X_val_Xray, y_val_Xray, random_state=42)\n",
        "\n",
        "y_val_shuffled_Xray = np.argmax(y_val_shuffled_Xray, axis=1)\n",
        "y_train_shuffled_Xray = np.argmax(y_train_shuffled_Xray, axis=1)"
      ],
      "metadata": {
        "id": "qSYOrnnFoQpy"
      },
      "execution_count": null,
      "outputs": []
    },
    {
      "cell_type": "markdown",
      "source": [
        "#Random Forest: Xray untuned"
      ],
      "metadata": {
        "id": "DaG85mXBoTg0"
      }
    },
    {
      "cell_type": "code",
      "source": [
        "rf_classifier = RandomForestClassifier(n_estimators=100, random_state=42)\n",
        "\n",
        "rf_classifier.fit(X_train_shuffled_Xray, y_train_shuffled_Xray)\n",
        "\n",
        "y_pred_Xray = rf_classifier.predict(X_val_shuffled_Xray)\n",
        "\n",
        "accuracy_Xray = accuracy_score(y_val_shuffled_Xray, y_pred_Xray)\n",
        "print(f\"Accuracy on validation set: {accuracy_Xray}\")\n",
        "\n",
        "y_pred_proba_Xray = np.array(rf_classifier.predict_proba(X_val_shuffled_Xray))\n",
        "roc_auc_Xray = roc_auc_score(y_val_shuffled_Xray, y_pred_proba_Xray, multi_class='ovr', average='macro')\n",
        "print(f\"ROC-AUC score on validation set: {roc_auc_Xray}\")\n",
        "\n",
        "joblib.dump(rf_classifier, \"/content/drive/My Drive/Tilburg University/Master Thesis/Combined data/Models/Random Forest/random_forest_model_Xray.joblib\")"
      ],
      "metadata": {
        "id": "jur6zDURoS06"
      },
      "execution_count": null,
      "outputs": []
    },
    {
      "cell_type": "markdown",
      "source": [
        "#Xray tuned"
      ],
      "metadata": {
        "id": "0-59S9uWoaSa"
      }
    },
    {
      "cell_type": "code",
      "source": [
        "def objective(trial):\n",
        "\n",
        "    params = {\n",
        "        'n_estimators': trial.suggest_int('n_estimators', 50, 200),\n",
        "        'max_depth': trial.suggest_int('max_depth', 3, 20),\n",
        "        'min_samples_split': trial.suggest_int('min_samples_split', 2, 20),\n",
        "        'min_samples_leaf': trial.suggest_int('min_samples_leaf', 1, 20),\n",
        "        'max_features': trial.suggest_categorical('max_features', ['sqrt', 'log2', None]),\n",
        "        'random_state': 42\n",
        "    }\n",
        "\n",
        "    rf_classifier = RandomForestClassifier(**params)\n",
        "\n",
        "    rf_classifier.fit(X_train_shuffled_Xray, y_train_shuffled_Xray)\n",
        "\n",
        "    y_pred_proba = rf_classifier.predict_proba(X_val_shuffled_Xray)\n",
        "\n",
        "    roc_auc = roc_auc_score(y_val_shuffled_Xray, y_pred_proba, multi_class='ovr', average='macro')\n",
        "    print(f'Trial {trial.number} ROC-AUC: {roc_auc}')\n",
        "\n",
        "    return roc_auc\n",
        "\n",
        "\n",
        "study = optuna.create_study(direction='maximize')\n",
        "\n",
        "study.optimize(objective, n_trials=200)\n",
        "\n",
        "best_params = study.best_params\n",
        "print(f\"Best Hyperparameters: {best_params}\")\n",
        "\n",
        "final_rf_classifier = RandomForestClassifier(**best_params, random_state=42)\n",
        "final_rf_classifier.fit(X_train_shuffled_Xray, y_train_shuffled_Xray)\n",
        "\n",
        "y_val_pred_proba = final_rf_classifier.predict_proba(X_val_shuffled_Xray)\n",
        "roc_auc_test = roc_auc_score(y_val_shuffled_Xray, y_val_pred_proba, multi_class='ovr', average='macro')\n",
        "print(f'Final Model ROC-AUC on Test Set: {roc_auc_test}')\n",
        "\n",
        "\n",
        "joblib.dump(final_rf_classifier, \"/content/drive/My Drive/Tilburg University/Master Thesis/Combined data/Models/Random Forest/random_forest_model_tuned_Xray.joblib\")\n"
      ],
      "metadata": {
        "id": "EGlZkl2hobRL"
      },
      "execution_count": null,
      "outputs": []
    },
    {
      "cell_type": "markdown",
      "source": [
        "#Xray SMOTE"
      ],
      "metadata": {
        "id": "zYJHsRHjoi_i"
      }
    },
    {
      "cell_type": "code",
      "source": [
        "smote = SMOTE(random_state=42)\n",
        "\n",
        "X_train_smote_Xray, y_train_smote_Xray = smote.fit_resample(X_train_shuffled_Xray, y_train_shuffled_Xray)"
      ],
      "metadata": {
        "id": "M43BwPyBokqr"
      },
      "execution_count": null,
      "outputs": []
    },
    {
      "cell_type": "code",
      "source": [
        "def objective(trial):\n",
        "    params = {\n",
        "        'n_estimators': trial.suggest_int('n_estimators', 50, 200),\n",
        "        'max_depth': trial.suggest_int('max_depth', 3, 20),\n",
        "        'min_samples_split': trial.suggest_int('min_samples_split', 2, 20),\n",
        "        'min_samples_leaf': trial.suggest_int('min_samples_leaf', 1, 20),\n",
        "        'max_features': trial.suggest_categorical('max_features', ['sqrt', 'log2', None]),\n",
        "        'random_state': 42\n",
        "    }\n",
        "\n",
        "    rf_classifier = RandomForestClassifier(**params)\n",
        "\n",
        "    rf_classifier.fit(X_train_smote_Xray, y_train_smote_Xray)\n",
        "\n",
        "    y_pred_proba = rf_classifier.predict_proba(X_val_shuffled_Xray)\n",
        "\n",
        "    roc_auc = roc_auc_score(y_val_shuffled_Xray, y_pred_proba, multi_class='ovr', average='macro')\n",
        "    print(f'Trial {trial.number} ROC-AUC: {roc_auc}')\n",
        "\n",
        "    return roc_auc\n",
        "\n",
        "study = optuna.create_study(direction='maximize')\n",
        "\n",
        "study.optimize(objective, n_trials=200)\n",
        "\n",
        "best_params = study.best_params\n",
        "print(f\"Best Hyperparameters: {best_params}\")\n",
        "\n",
        "final_rf_classifier_smote = RandomForestClassifier(**best_params, random_state=42)\n",
        "final_rf_classifier_smote.fit(X_train_smote_Xray, y_train_smote_Xray)\n",
        "\n",
        "y_val_pred_proba = final_rf_classifier_smote.predict_proba(X_val_shuffled_Xray)\n",
        "\n",
        "roc_auc_val = roc_auc_score(y_val_shuffled_Xray, y_val_pred_proba, multi_class='ovr', average='macro')\n",
        "print(f'ROC-AUC on Validation Set: {roc_auc_val}')\n",
        "\n",
        "\n",
        "joblib.dump(final_rf_classifier, \"/content/drive/My Drive/Tilburg University/Master Thesis/Combined data/Models/Random Forest/random_forest_model_tuned_Xray_smote.joblib\")"
      ],
      "metadata": {
        "id": "w5-MGcCcomaC"
      },
      "execution_count": null,
      "outputs": []
    },
    {
      "cell_type": "markdown",
      "source": [
        "#MRI Specific"
      ],
      "metadata": {
        "id": "iCqc1Aibou5j"
      }
    },
    {
      "cell_type": "code",
      "source": [
        "X_train_MRNet = np.load(\"/content/drive/My Drive/Tilburg University/Master Thesis/Combined data/X_train_MRNet_reduced.npy\")\n",
        "X_val_MRNet = np.load(\"/content/drive/My Drive/Tilburg University/Master Thesis/Combined data/X_val_MRNet_reduced.npy\")\n",
        "y_train_MRNet = np.load(\"/content/drive/My Drive/Tilburg University/Master Thesis/Combined data/y_train_MRNet.npy\")\n",
        "y_val_MRNet = np.load(\"/content/drive/My Drive/Tilburg University/Master Thesis/Combined data/y_val_MRNet.npy\")"
      ],
      "metadata": {
        "id": "HOeGei8lowIS"
      },
      "execution_count": null,
      "outputs": []
    },
    {
      "cell_type": "code",
      "source": [
        "rf_classifier_MRNet = RandomForestClassifier(n_estimators=100, random_state=42)\n",
        "\n",
        "rf_classifier_MRNet.fit(X_train_MRNet, y_train_MRNet)\n",
        "\n",
        "y_pred_proba = rf_classifier_MRNet.predict_proba(X_val_MRNet)\n",
        "\n",
        "y_pred_proba_positive_class = y_pred_proba[:, 1]\n",
        "\n",
        "roc_auc_MRNet = roc_auc_score(y_val_MRNet, y_pred_proba_positive_class)\n",
        "print(f\"ROC-AUC score on validation set: {roc_auc_MRNet}\")\n",
        "\n",
        "joblib.dump(rf_classifier_MRNet, \"/content/drive/My Drive/Tilburg University/Master Thesis/Combined data/Models/Random Forest/random_forest_model_MRNet.joblib\")"
      ],
      "metadata": {
        "id": "C1Lxoez2ox5S"
      },
      "execution_count": null,
      "outputs": []
    },
    {
      "cell_type": "markdown",
      "source": [
        "#MRI Tuned"
      ],
      "metadata": {
        "id": "R64gSLZ2o1MS"
      }
    },
    {
      "cell_type": "code",
      "source": [
        "def objective(trial):\n",
        "    params = {\n",
        "        'n_estimators': trial.suggest_int('n_estimators', 50, 200),\n",
        "        'max_depth': trial.suggest_int('max_depth', 3, 20),\n",
        "        'min_samples_split': trial.suggest_int('min_samples_split', 2, 20),\n",
        "        'min_samples_leaf': trial.suggest_int('min_samples_leaf', 1, 20),\n",
        "        'max_features': trial.suggest_categorical('max_features', ['sqrt', 'log2', None]),\n",
        "        'random_state': 42\n",
        "    }\n",
        "\n",
        "    rf_classifier = RandomForestClassifier(**params)\n",
        "\n",
        "    rf_classifier.fit(X_train_MRNet, y_train_MRNet)\n",
        "\n",
        "    y_pred_proba = rf_classifier.predict_proba(X_val_MRNet)\n",
        "\n",
        "    y_pred_proba_positive_class = y_pred_proba[:, 1]\n",
        "\n",
        "    roc_auc = roc_auc_score(y_val_MRNet, y_pred_proba_positive_class)\n",
        "    print(f'Trial {trial.number} ROC-AUC: {roc_auc}')\n",
        "\n",
        "    return roc_auc\n",
        "\n",
        "study = optuna.create_study(direction='maximize')\n",
        "\n",
        "study.optimize(objective, n_trials=200)\n",
        "\n",
        "\n",
        "best_params = study.best_params\n",
        "print(f\"Best Hyperparameters: {best_params}\")\n",
        "\n",
        "final_rf_classifier_MRNet = RandomForestClassifier(**best_params, random_state=42)\n",
        "final_rf_classifier_MRNet.fit(X_train_MRNet, y_train_MRNet)\n",
        "\n",
        "y_val_pred_proba = final_rf_classifier_MRNet.predict_proba(X_val_MRNet)\n",
        "\n",
        "\n",
        "y_val_pred_proba = final_rf_classifier_MRNet.predict_proba(X_val_MRNet)\n",
        "y_pred_proba_positive_class = y_pred_proba[:, 1]\n",
        "\n",
        "roc_auc_val = roc_auc_score(y_val_MRNet, y_pred_proba_positive_class, multi_class='ovr', average='macro')\n",
        "print(f'ROC-AUC on Validation Set: {roc_auc_val}')\n",
        "\n",
        "joblib.dump(final_rf_classifier_MRNet, \"/content/drive/My Drive/Tilburg University/Master Thesis/Combined data/Models/Random Forest/random_forest_model_tuned_MRNet.joblib\")\n"
      ],
      "metadata": {
        "id": "odcSMxOko2gK"
      },
      "execution_count": null,
      "outputs": []
    },
    {
      "cell_type": "markdown",
      "source": [
        "#MRI Tuned + SMOTE"
      ],
      "metadata": {
        "id": "jfxPHSY2o910"
      }
    },
    {
      "cell_type": "code",
      "source": [
        "smote = SMOTE(random_state=42)\n",
        "\n",
        "X_train_smote_MRNet, y_train_smote_MRNet = smote.fit_resample(X_train_MRNet, y_train_MRNet)"
      ],
      "metadata": {
        "id": "llFsO2iQo_Hr"
      },
      "execution_count": null,
      "outputs": []
    },
    {
      "cell_type": "code",
      "source": [
        "def objective(trial):\n",
        "    params = {\n",
        "        'n_estimators': trial.suggest_int('n_estimators', 50, 200),\n",
        "        'max_depth': trial.suggest_int('max_depth', 3, 20),\n",
        "        'min_samples_split': trial.suggest_int('min_samples_split', 2, 20),\n",
        "        'min_samples_leaf': trial.suggest_int('min_samples_leaf', 1, 20),\n",
        "        'max_features': trial.suggest_categorical('max_features', ['sqrt', 'log2', None]),\n",
        "        'random_state': 42\n",
        "    }\n",
        "\n",
        "    rf_classifier = RandomForestClassifier(**params)\n",
        "\n",
        "    rf_classifier.fit(X_train_smote_MRNet, y_train_smote_MRNet)\n",
        "\n",
        "    y_pred_proba = rf_classifier.predict_proba(X_val_MRNet)\n",
        "    y_pred_proba_positive_class = y_pred_proba[:, 1]\n",
        "\n",
        "    roc_auc = roc_auc_score(y_val_MRNet, y_pred_proba_positive_class, multi_class='ovr', average='macro')\n",
        "    print(f'Trial {trial.number} ROC-AUC: {roc_auc}')\n",
        "\n",
        "    return roc_auc\n",
        "\n",
        "study = optuna.create_study(direction='maximize')\n",
        "\n",
        "study.optimize(objective, n_trials=200)\n",
        "\n",
        "best_params = study.best_params\n",
        "print(f\"Best Hyperparameters: {best_params}\")\n",
        "\n",
        "final_rf_classifier_smote_MRNet = RandomForestClassifier(**best_params, random_state=42)\n",
        "final_rf_classifier_smote_MRNet.fit(X_train_smote_MRNet, y_train_smote_MRNet)\n",
        "\n",
        "y_val_pred = final_rf_classifier_smote_MRNet.predict(X_val_MRNet)\n",
        "y_val_pred_proba = final_rf_classifier_smote_MRNet.predict_proba(X_val_MRNet)[:, 1]\n",
        "\n",
        "roc_auc_val = roc_auc_score(y_val_MRNet, y_val_pred_proba)\n",
        "print(f'ROC-AUC on Validation Set: {roc_auc_val}')\n",
        "\n",
        "classification_rep = classification_report(y_val_MRNet, y_val_pred)\n",
        "print(f'Classification Report:\\n{classification_rep}')\n",
        "\n",
        "joblib.dump(final_rf_classifier_smote_MRNet, \"/content/drive/My Drive/Tilburg University/Master Thesis/Combined data/Models/Random Forest/random_forest_model_tuned_smote_MRNet.joblib\")\n",
        "\n"
      ],
      "metadata": {
        "id": "maMzTWk8pNrc"
      },
      "execution_count": null,
      "outputs": []
    }
  ]
}