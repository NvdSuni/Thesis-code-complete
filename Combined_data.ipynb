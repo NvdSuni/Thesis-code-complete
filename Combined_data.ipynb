{
  "nbformat": 4,
  "nbformat_minor": 0,
  "metadata": {
    "colab": {
      "provenance": [],
      "authorship_tag": "ABX9TyPR31SBcVUpj2FkCR+DyN4o",
      "include_colab_link": true
    },
    "kernelspec": {
      "name": "python3",
      "display_name": "Python 3"
    },
    "language_info": {
      "name": "python"
    }
  },
  "cells": [
    {
      "cell_type": "markdown",
      "metadata": {
        "id": "view-in-github",
        "colab_type": "text"
      },
      "source": [
        "<a href=\"https://colab.research.google.com/github/NvdSuni/Thesis-code-complete/blob/main/Combined_data.ipynb\" target=\"_parent\"><img src=\"https://colab.research.google.com/assets/colab-badge.svg\" alt=\"Open In Colab\"/></a>"
      ]
    },
    {
      "cell_type": "code",
      "execution_count": null,
      "metadata": {
        "id": "JmFkZZQxgwjj"
      },
      "outputs": [],
      "source": [
        "from google.colab import drive\n",
        "drive.mount('/content/drive')\n",
        "\n",
        "from tensorflow.keras.models import Sequential\n",
        "from tensorflow.keras.layers import Conv2D, MaxPooling2D, Flatten, Dense, Dropout\n",
        "from tensorflow.keras.preprocessing.image import ImageDataGenerator\n",
        "import os\n",
        "import matplotlib.pyplot as plt\n",
        "\n",
        "import numpy as np\n",
        "from PIL import Image\n",
        "from tensorflow.keras.utils import to_categorical\n",
        "import tensorflow as tf\n",
        "from tensorflow import keras\n",
        "\n",
        "from tensorflow.keras.models import Model\n",
        "from tensorflow.keras.models import load_model\n",
        "import joblib"
      ]
    },
    {
      "cell_type": "code",
      "source": [
        "!pip install vit-keras\n",
        "!pip install timm"
      ],
      "metadata": {
        "id": "FhT5EeVog1Tx"
      },
      "execution_count": null,
      "outputs": []
    },
    {
      "cell_type": "code",
      "source": [
        "import google\n",
        "import tensorflow as tf\n",
        "import matplotlib\n",
        "import numpy as np\n",
        "import PIL\n",
        "import vit_keras\n",
        "import timm\n",
        "import joblib\n",
        "from sklearn import __version__ as sklearn_version\n",
        "\n",
        "print(f\"scikit-learn: {sklearn_version}\")\n",
        "\n",
        "print(f\"google.colab: {google.colab.__version__}\")\n",
        "print(f\"tensorflow: {tf.__version__}\")\n",
        "print(f\"matplotlib: {matplotlib.__version__}\")\n",
        "print(f\"numpy: {np.__version__}\")\n",
        "print(f\"PIL: {PIL.__version__}\")\n",
        "print(f\"vit-keras: {vit_keras.__version__}\")\n",
        "print(f\"timm: {timm.__version__}\")\n",
        "print(f\"joblib: {joblib.__version__}\")"
      ],
      "metadata": {
        "id": "oap86Mcpg2NJ"
      },
      "execution_count": null,
      "outputs": []
    },
    {
      "cell_type": "code",
      "source": [
        "X_train_Xray1 = np.load(\"/content/drive/My Drive/Tilburg University/Master Thesis/Combined data/cnn_features_X_train_Xray1.npy\")\n",
        "X_train_Xray2 = np.load(\"/content/drive/My Drive/Tilburg University/Master Thesis/Combined data/cnn_features_X_train_Xray2.npy\")\n",
        "X_val_Xray = np.load(\"/content/drive/My Drive/Tilburg University/Master Thesis/Combined data/cnn_features_X_val_Xray.npy\")\n",
        "X_train_MRNet = np.load(\"/content/drive/My Drive/Tilburg University/Master Thesis/Combined data/cnn_features_X_train_MRNet2.npy\")\n",
        "X_val_MRNet = np.load(\"/content/drive/My Drive/Tilburg University/Master Thesis/Combined data/cnn_features_X_val_MRNet2.npy\")\n",
        "X_test_MRNet = np.load(\"/content/drive/My Drive/Tilburg University/Master Thesis/Combined data/cnn_features_X_test_MRNet.npy\")\n",
        "X_test_Xray = np.load(\"/content/drive/My Drive/Tilburg University/Master Thesis/Combined data/cnn_features_X_test_Xray.npy\")\n",
        "\n",
        "train_labels_Xray = np.load('/content/drive/My Drive/Tilburg University/Master Thesis/Combined data/train_labels_complete_Xray.npy')\n",
        "val_labels_Xray = np.load('/content/drive/My Drive/Tilburg University/Master Thesis/Combined data/val_labels_complete_Xray.npy')\n",
        "train_labels_MRNet = np.load('/content/drive/My Drive/Tilburg University/Master Thesis/Combined data/y_train_MRNet.npy')\n",
        "val_labels_MRNet = np.load('/content/drive/My Drive/Tilburg University/Master Thesis/Combined data/y_val_MRNet.npy')\n",
        "\n",
        "X_test_MRNet = np.load(\"/content/drive/My Drive/Tilburg University/Master Thesis/Combined data/X_test_MRNet_reduced.npy\")\n",
        "X_test_Xray = np.load(\"/content/drive/My Drive/Tilburg University/Master Thesis/Combined data/X_test_Xray_reduced.npy\")\n",
        "y_test_MRNet = np.load(\"/content/drive/My Drive/Tilburg University/Master Thesis/Combined data/y_test_MRNet.npy\")\n",
        "y_test_Xray = np.load(\"/content/drive/My Drive/Tilburg University/Master Thesis/Combined data/test_labels_complete_Xray.npy\")"
      ],
      "metadata": {
        "id": "eAGYc31ng7x6"
      },
      "execution_count": null,
      "outputs": []
    },
    {
      "cell_type": "markdown",
      "source": [
        "#PCA APPLICATION"
      ],
      "metadata": {
        "id": "pXbNDLdXhawh"
      }
    },
    {
      "cell_type": "code",
      "source": [
        "from sklearn.decomposition import PCA\n",
        "\n",
        "#Define the desired reduced dimension\n",
        "reduced_dimension = 64\n",
        "\n",
        "def reshape_data(data):\n",
        "    return data.reshape(data.shape[0], -1)\n",
        "\n",
        "X_train_MRNet_2D = reshape_data(X_train_MRNet2)\n",
        "X_test_MRNet_2D = reshape_data(X_test_MRNet)\n",
        "X_val_MRNet_2D = reshape_data(X_val_MRNet2)\n",
        "X_train_Xray_2D = reshape_data(X_train_Xray1)\n",
        "X_test_Xray_2D = reshape_data(X_test_Xray)\n",
        "X_val_Xray_2D = reshape_data(X_val_Xray)\n",
        "\n",
        "#Apply PCA for dimensionality reduction\n",
        "def apply_pca(data, reduced_dimension):\n",
        "    pca = PCA(n_components=reduced_dimension)\n",
        "    reduced_data = pca.fit_transform(data)\n",
        "    return pca, reduced_data\n",
        "\n",
        "pca_MRNet, X_train_MRNet_reduced = apply_pca(X_train_MRNet_2D, reduced_dimension)\n",
        "X_train_MRNet_reduced = pca_MRNet.transform(X_train_MRNet_2D)\n",
        "X_val_MRNet_reduced = pca_MRNet.transform(X_val_MRNet_2D)\n",
        "X_test_MRNet_reduced = pca_MRNet.transform(X_test_MRNet_2D)\n",
        "\n",
        "pca_Xray, X_train_Xray_reduced1 = apply_pca(X_train_Xray_2D, reduced_dimension)\n",
        "X_train_Xray_reduced = pca_MRNet.transform(X_train_Xray_2D)\n",
        "X_val_Xray_reduced = pca_Xray.transform(X_val_Xray_2D)\n",
        "X_test_Xray_reduced = pca_Xray.transform(X_test_Xray_2D)\n"
      ],
      "metadata": {
        "id": "_0E7yEGqhcRZ"
      },
      "execution_count": null,
      "outputs": []
    },
    {
      "cell_type": "code",
      "source": [
        "np.save(\"/content/drive/My Drive/Tilburg University/Master Thesis/Combined data/X_train_MRNet_reduced.npy\", X_train_MRNet_reduced)\n",
        "np.save(\"/content/drive/My Drive/Tilburg University/Master Thesis/Combined data/X_train_Xray_reduced1.npy\", X_train_Xray_reduced1)\n",
        "np.save(\"/content/drive/My Drive/Tilburg University/Master Thesis/Combined data/X_val_MRNet_reduced.npy\", X_val_MRNet_reduced)\n",
        "np.save(\"/content/drive/My Drive/Tilburg University/Master Thesis/Combined data/X_val_Xray_reduced.npy\", X_val_Xray_reduced)\n",
        "np.save(\"/content/drive/My Drive/Tilburg University/Master Thesis/Combined data/X_test_MRNet_reduced.npy\", X_test_MRNet_reduced)\n",
        "np.save(\"/content/drive/My Drive/Tilburg University/Master Thesis/Combined data/X_test_Xray_reduced.npy\", X_test_Xray_reduced)"
      ],
      "metadata": {
        "id": "a2DeieYsh-oy"
      },
      "execution_count": null,
      "outputs": []
    },
    {
      "cell_type": "markdown",
      "source": [
        "#CONCATENATING GROUND-TRUTH LABELS"
      ],
      "metadata": {
        "id": "MmSCwd2ciBsZ"
      }
    },
    {
      "cell_type": "code",
      "source": [
        "X_train_combined_inputs = np.concatenate((X_train_MRNet_reduced, X_train_Xray_reduced), axis = 0)\n",
        "X_val_combined_inputs = np.concatenate((X_val_MRNet_reduced, X_val_Xray_reduced), axis = 0)"
      ],
      "metadata": {
        "id": "vCdR4UvpiFEC"
      },
      "execution_count": null,
      "outputs": []
    },
    {
      "cell_type": "code",
      "source": [
        "train_labels_MRNet_binary = train_labels_MRNet_binary.reshape((-1, 1))\n",
        "print(train_labels_MRNet_binary.shape, train_labels_Xray.shape)"
      ],
      "metadata": {
        "id": "XAAga-mciHE5"
      },
      "execution_count": null,
      "outputs": []
    },
    {
      "cell_type": "code",
      "source": [
        "#Define a mapping from multi-class labels to grade\n",
        "label_to_grade = {\n",
        "    (1, 0, 0, 0, 0): 0,\n",
        "    (0, 1, 0, 0, 0): 1,\n",
        "    (0, 0, 1, 0, 0): 2,\n",
        "    (0, 0, 0, 1, 0): 3,\n",
        "    (0, 0, 0, 0, 1): 4\n",
        "}\n",
        "\n",
        "y_train_Xray = []\n",
        "\n",
        "for row in train_labels_Xray:\n",
        "    grade = label_to_grade[tuple(row)]\n",
        "    y_train_Xray.append(grade)\n",
        "\n",
        "\n",
        "y_train_Xray = np.array(y_train_Xray)"
      ],
      "metadata": {
        "id": "faJblAEuiIEK"
      },
      "execution_count": null,
      "outputs": []
    },
    {
      "cell_type": "code",
      "source": [
        "y_val_Xray = []\n",
        "\n",
        "for row in val_labels_Xray:\n",
        "    grade = label_to_grade[tuple(row)]\n",
        "    y_val_Xray.append(grade)\n",
        "\n",
        "\n",
        "y_val_Xray = np.array(y_val_Xray)"
      ],
      "metadata": {
        "id": "i6J1yAYMiJJB"
      },
      "execution_count": null,
      "outputs": []
    },
    {
      "cell_type": "code",
      "source": [
        "#Adjust train_labels_MRNet_binary\n",
        "train_labels_MRNet_adjusted = train_labels_MRNet + 5\n",
        "val_labels_MRNet_adjusted = val_labels_MRNet + 5"
      ],
      "metadata": {
        "id": "TJriqvy7iJ_h"
      },
      "execution_count": null,
      "outputs": []
    },
    {
      "cell_type": "code",
      "source": [
        "#Concatenate the labels\n",
        "y_train_combined = np.concatenate((train_labels_MRNet_adjusted, y_train_Xray), axis=0)\n",
        "y_val_combined = np.concatenate((val_labels_MRNet_adjusted, y_val_Xray ), axis=0)"
      ],
      "metadata": {
        "id": "NyIZPUCjiMGx"
      },
      "execution_count": null,
      "outputs": []
    },
    {
      "cell_type": "code",
      "source": [
        "from sklearn.utils import shuffle\n",
        "X_train_combined, y_train_combined = shuffle(X_train_combined_inputs, y_train_combined, random_state = 42)\n",
        "X_val_combined, y_val_combined = shuffle(X_val_combined_inputs, y_val_combined, random_state = 42)"
      ],
      "metadata": {
        "id": "XHZfyVBQiNi5"
      },
      "execution_count": null,
      "outputs": []
    },
    {
      "cell_type": "code",
      "source": [
        "np.save(\"/content/drive/My Drive/Tilburg University/Master Thesis/Combined data/X_train_combined.npy\", X_train_combined)\n",
        "np.save(\"/content/drive/My Drive/Tilburg University/Master Thesis/Combined data/X_val_combined.npy\", X_val_combined)\n",
        "np.save(\"/content/drive/My Drive/Tilburg University/Master Thesis/Combined data/y_train_combined.npy\", y_train_combined)\n",
        "np.save(\"/content/drive/My Drive/Tilburg University/Master Thesis/Combined data/y_val_combined.npy\", y_val_combined)"
      ],
      "metadata": {
        "id": "TMbkafmwiPyi"
      },
      "execution_count": null,
      "outputs": []
    },
    {
      "cell_type": "code",
      "source": [
        "X_test_MRNet = np.load(\"/content/drive/My Drive/Tilburg University/Master Thesis/Combined data/X_test_MRNet_reduced.npy\")\n",
        "X_test_Xray = np.load(\"/content/drive/My Drive/Tilburg University/Master Thesis/Combined data/X_test_Xray_reduced.npy\")\n",
        "y_test_MRNet = np.load(\"/content/drive/My Drive/Tilburg University/Master Thesis/Combined data/y_test_MRNet.npy\")\n",
        "y_test_Xray = np.load(\"/content/drive/My Drive/Tilburg University/Master Thesis/Combined data/test_labels_complete_Xray.npy\")"
      ],
      "metadata": {
        "id": "sxNrX8tKipDq"
      },
      "execution_count": null,
      "outputs": []
    },
    {
      "cell_type": "code",
      "source": [
        "X_test_combined_inputs = np.concatenate((X_test_MRNet, X_test_Xray), axis = 0)\n",
        "print(X_test_combined_inputs.shape)"
      ],
      "metadata": {
        "id": "CB-PkbpejxEz"
      },
      "execution_count": null,
      "outputs": []
    },
    {
      "cell_type": "code",
      "source": [
        "y_test_Xray_adjusted = np.argmax(y_test_Xray, axis=1)\n",
        "y_test_MRNet_adjusted = y_test_MRNet + 5\n",
        "y_test_combined = np.concatenate((y_test_MRNet_adjusted, y_test_Xray_adjusted), axis=0)\n",
        "X_test_combined, y_test_combined = shuffle(X_test_combined_inputs, y_test_combined, random_state = 42)"
      ],
      "metadata": {
        "id": "tDcrocnEiq8q"
      },
      "execution_count": null,
      "outputs": []
    },
    {
      "cell_type": "code",
      "source": [
        "np.save(\"/content/drive/My Drive/Tilburg University/Master Thesis/Combined data/X_test_combined.npy\", X_test_combined)\n",
        "np.save(\"/content/drive/My Drive/Tilburg University/Master Thesis/Combined data/y_test_combined.npy\", y_test_combined)"
      ],
      "metadata": {
        "id": "TnzkoXwqizGD"
      },
      "execution_count": null,
      "outputs": []
    }
  ]
}