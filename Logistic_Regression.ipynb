{
  "nbformat": 4,
  "nbformat_minor": 0,
  "metadata": {
    "colab": {
      "provenance": [],
      "authorship_tag": "ABX9TyP+PzeLEspYj+2gNaiz2cHW",
      "include_colab_link": true
    },
    "kernelspec": {
      "name": "python3",
      "display_name": "Python 3"
    },
    "language_info": {
      "name": "python"
    }
  },
  "cells": [
    {
      "cell_type": "markdown",
      "metadata": {
        "id": "view-in-github",
        "colab_type": "text"
      },
      "source": [
        "<a href=\"https://colab.research.google.com/github/NvdSuni/Thesis-code-complete/blob/main/Logistic_Regression.ipynb\" target=\"_parent\"><img src=\"https://colab.research.google.com/assets/colab-badge.svg\" alt=\"Open In Colab\"/></a>"
      ]
    },
    {
      "cell_type": "code",
      "execution_count": null,
      "metadata": {
        "id": "errgB2-YpqmS"
      },
      "outputs": [],
      "source": [
        "from google.colab import drive\n",
        "drive.mount('/content/drive')\n",
        "\n",
        "!pip install optuna\n",
        "!pip install imbalanced-learn\n",
        "\n",
        "import optuna\n",
        "from imblearn.over_sampling import SMOTE\n",
        "import numpy as np\n",
        "import os\n",
        "import matplotlib.pyplot as plt\n",
        "from sklearn.utils import shuffle\n",
        "from sklearn.metrics import accuracy_score, classification_report, roc_auc_score\n",
        "import joblib\n",
        "from sklearn.linear_model import LogisticRegression"
      ]
    },
    {
      "cell_type": "code",
      "source": [
        "import imblearn\n",
        "imblearn_version = imblearn.__version__\n",
        "\n",
        "#Print versions\n",
        "print(f\"optuna: {optuna.__version__}\")\n",
        "print(f\"imbalanced-learn: {imblearn_version}\")\n",
        "print(f\"numpy: {np.__version__}\")\n",
        "print(f\"matplotlib: {plt.matplotlib.__version__}\")\n",
        "print(f\"joblib: {joblib.__version__}\")"
      ],
      "metadata": {
        "id": "_aItZISgpt4D"
      },
      "execution_count": null,
      "outputs": []
    },
    {
      "cell_type": "code",
      "source": [
        "X_train_combined = np.load(\"/content/drive/My Drive/Tilburg University/Master Thesis/Combined data/X_train_combined.npy\")\n",
        "X_val_combined = np.load(\"/content/drive/My Drive/Tilburg University/Master Thesis/Combined data/X_val_combined.npy\")\n",
        "y_train_combined = np.load(\"/content/drive/My Drive/Tilburg University/Master Thesis/Combined data/y_train_combined.npy\")\n",
        "y_val_combined = np.load(\"/content/drive/My Drive/Tilburg University/Master Thesis/Combined data/y_val_combined.npy\")"
      ],
      "metadata": {
        "id": "EQkx2ukVpyFj"
      },
      "execution_count": null,
      "outputs": []
    },
    {
      "cell_type": "code",
      "source": [
        "np.random.seed(42)"
      ],
      "metadata": {
        "id": "oonEpK-9pyw6"
      },
      "execution_count": null,
      "outputs": []
    },
    {
      "cell_type": "markdown",
      "source": [
        "#Logistic Regression untuned"
      ],
      "metadata": {
        "id": "QQjhAR0Ipzn6"
      }
    },
    {
      "cell_type": "code",
      "source": [
        "model = LogisticRegression(max_iter=1000, random_state = 42, multi_class='ovr')\n",
        "\n",
        "\n",
        "model.fit(X_train_combined, y_train_combined)\n",
        "\n",
        "y_pred = model.predict(X_val_combined)\n",
        "\n",
        "accuracy = accuracy_score(y_val_combined, y_pred)\n",
        "classification_report_str = classification_report(y_val_combined, y_pred)\n",
        "roc_auc = roc_auc_score(y_val_combined, model.predict_proba(X_val_combined), multi_class='ovr')\n",
        "\n",
        "print(f'Accuracy: {accuracy}')\n",
        "print('Classification Report:\\n', classification_report_str)\n",
        "print(f'ROC-AUC: {roc_auc}')\n",
        "\n",
        "joblib.dump(model, \"/content/drive/My Drive/Tilburg University/Master Thesis/Combined data/Models/Logistic Regression/logistic_regression.joblib\")"
      ],
      "metadata": {
        "id": "puCas1G8p2CC"
      },
      "execution_count": null,
      "outputs": []
    },
    {
      "cell_type": "markdown",
      "source": [
        "#Tuned model"
      ],
      "metadata": {
        "id": "Et10d46Gp6rS"
      }
    },
    {
      "cell_type": "code",
      "source": [
        "def objective(trial):\n",
        "    params = {\n",
        "        'random_state': 42,\n",
        "        'C': trial.suggest_float('C', 0.01, 10.0),\n",
        "        'penalty': trial.suggest_categorical('penalty', ['l2']),\n",
        "        'max_iter': trial.suggest_int('max_iter', 100, 1000),\n",
        "        'solver': trial.suggest_categorical('solver', ['newton-cg', 'lbfgs', 'liblinear', 'sag', 'saga']),\n",
        "        'fit_intercept': trial.suggest_categorical('fit_intercept', [True, False]),\n",
        "        'class_weight': trial.suggest_categorical('class_weight', [None, 'balanced']),\n",
        "        'tol': trial.suggest_float('tol', 1e-5, 1e-1),\n",
        "    }\n",
        "\n",
        "    logistic_regression_model = LogisticRegression(**params)\n",
        "\n",
        "    logistic_regression_model.fit(X_train_combined, y_train_combined)\n",
        "\n",
        "    y_pred_proba = logistic_regression_model.predict_proba(X_val_combined)\n",
        "\n",
        "    roc_auc = roc_auc_score(y_val_combined, y_pred_proba, multi_class='ovr', average='macro')\n",
        "\n",
        "    return roc_auc\n",
        "\n",
        "\n",
        "study = optuna.create_study(direction='maximize')\n",
        "study.optimize(objective, n_trials=200)\n",
        "\n",
        "best_params = study.best_params\n",
        "\n",
        "best_logistic_regression_model = LogisticRegression(**best_params)\n",
        "best_logistic_regression_model.fit(X_train_combined, y_train_combined)\n",
        "\n",
        "y_pred_logreg_tuned = best_logistic_regression_model.predict_proba(X_val_combined)\n",
        "\n",
        "roc_auc_logreg_tuned = roc_auc_score(y_val_combined, y_pred_logreg_tuned, multi_class='ovr', average='macro')\n",
        "print(\"Tuned Logistic Regression ROC-AUC:\", roc_auc_logreg_tuned)\n",
        "\n",
        "report_logreg_tuned = classification_report(y_val_combined, y_pred_logreg_tuned.argmax(axis=1))\n",
        "print(report_logreg_tuned)\n",
        "\n",
        "joblib.dump(best_logistic_regression_model, '/content/drive/My Drive/Tilburg University/Master Thesis/Combined data/Models/Logistic Regression/logistic_regression_tuned.joblib')\n"
      ],
      "metadata": {
        "id": "w9vk2Sr6p74S"
      },
      "execution_count": null,
      "outputs": []
    },
    {
      "cell_type": "markdown",
      "source": [
        "#Tuned + Class imbalance treated"
      ],
      "metadata": {
        "id": "Xnwofp3uqCpS"
      }
    },
    {
      "cell_type": "code",
      "source": [
        "smote = SMOTE(random_state=42)\n",
        "X_train_smote, y_train_smote = smote.fit_resample(X_train_combined, y_train_combined)"
      ],
      "metadata": {
        "id": "2BuLb98_qECz"
      },
      "execution_count": null,
      "outputs": []
    },
    {
      "cell_type": "code",
      "source": [
        "def objective(trial):\n",
        "    params = {\n",
        "        'random_state': 42,\n",
        "        'C': trial.suggest_float('C', 0.01, 10.0),\n",
        "        'penalty': trial.suggest_categorical('penalty', ['l2']),\n",
        "        'max_iter': trial.suggest_int('max_iter', 100, 1000),\n",
        "        'solver': trial.suggest_categorical('solver', ['newton-cg', 'lbfgs', 'liblinear', 'sag', 'saga']),\n",
        "        'fit_intercept': trial.suggest_categorical('fit_intercept', [True, False]),\n",
        "        'class_weight': trial.suggest_categorical('class_weight', [None, 'balanced']),\n",
        "        'tol': trial.suggest_float('tol', 1e-5, 1e-1),\n",
        "    }\n",
        "\n",
        "    logistic_regression_model = LogisticRegression(**params)\n",
        "\n",
        "    logistic_regression_model.fit(X_train_smote, y_train_smote)\n",
        "\n",
        "    y_pred_proba = logistic_regression_model.predict_proba(X_val_combined)\n",
        "\n",
        "    roc_auc = roc_auc_score(y_val_combined, y_pred_proba, multi_class='ovr', average='macro')\n",
        "\n",
        "    return roc_auc\n",
        "\n",
        "study = optuna.create_study(direction='maximize')\n",
        "study.optimize(objective, n_trials=200)\n",
        "\n",
        "best_params = study.best_params\n",
        "\n",
        "best_logistic_regression_model_smote = LogisticRegression(**best_params)\n",
        "best_logistic_regression_model_smote.fit(X_train_smote, y_train_smote)\n",
        "\n",
        "y_pred_logreg_tuned_smote = best_logistic_regression_model_smote.predict_proba(X_val_combined)\n",
        "\n",
        "roc_auc_logreg_tuned_smote = roc_auc_score(y_val_combined, y_pred_logreg_tuned_smote, multi_class='ovr', average='macro')\n",
        "print(\"Tuned Logistic Regression ROC-AUC:\", roc_auc_logreg_tuned_smote)\n",
        "\n",
        "report_logreg_tuned_smote = classification_report(y_val_combined, y_pred_logreg_tuned_smote.argmax(axis=1))\n",
        "print(report_logreg_tuned_smote)\n",
        "\n",
        "joblib.dump(best_logistic_regression_model_smote, '/content/drive/My Drive/Tilburg University/Master Thesis/Combined data/Models/Logistic Regression/logistic_regression_tuned_smote.joblib')\n"
      ],
      "metadata": {
        "id": "19Z6SCZAqGT6"
      },
      "execution_count": null,
      "outputs": []
    },
    {
      "cell_type": "markdown",
      "source": [
        "#Xray specific"
      ],
      "metadata": {
        "id": "amU6MwzeqLqT"
      }
    },
    {
      "cell_type": "code",
      "source": [
        "X_train_Xray = np.load(\"/content/drive/My Drive/Tilburg University/Master Thesis/Combined data/X_train_Xray_reduced.npy\")\n",
        "X_val_Xray = np.load(\"/content/drive/My Drive/Tilburg University/Master Thesis/Combined data/X_val_Xray_reduced.npy\")\n",
        "y_train_Xray = np.load(\"/content/drive/My Drive/Tilburg University/Master Thesis/Combined data/train_labels_complete_Xray.npy\")\n",
        "y_val_Xray = np.load(\"/content/drive/My Drive/Tilburg University/Master Thesis/Combined data/val_labels_complete_Xray.npy\")"
      ],
      "metadata": {
        "id": "nLLOB3ZIqNSi"
      },
      "execution_count": null,
      "outputs": []
    },
    {
      "cell_type": "code",
      "source": [
        "y_train_1d = np.argmax(y_train_Xray, axis=1)\n",
        "y_val_1d = np.argmax(y_val_Xray, axis=1)\n",
        "X_train_shuffled_Xray, y_train_shuffled_Xray = shuffle(X_train_Xray, y_train_1d, random_state=42)\n",
        "X_val_shuffled_Xray, y_val_shuffled_Xray = shuffle(X_val_Xray, y_val_1d, random_state=42)"
      ],
      "metadata": {
        "id": "sDYB9P40qOLj"
      },
      "execution_count": null,
      "outputs": []
    },
    {
      "cell_type": "markdown",
      "source": [
        "#Untuned Xray"
      ],
      "metadata": {
        "id": "_RvTtSJgqRXK"
      }
    },
    {
      "cell_type": "code",
      "source": [
        "model = LogisticRegression(max_iter=1000, random_state = 42, multi_class='ovr')\n",
        "\n",
        "model.fit(X_train_Xray, y_train_shuffled_Xray)\n",
        "\n",
        "y_pred = model.predict(X_val_shuffled_Xray)\n",
        "\n",
        "accuracy = accuracy_score(y_val_shuffled_Xray, y_pred)\n",
        "classification_report_str = classification_report(y_val_shuffled_Xray, y_pred)\n",
        "roc_auc = roc_auc_score(y_val_shuffled_Xray, model.predict_proba(X_val_shuffled_Xray), multi_class='ovr')\n",
        "\n",
        "print(f'Accuracy: {accuracy}')\n",
        "print('Classification Report:\\n', classification_report_str)\n",
        "print(f'ROC-AUC: {roc_auc}')\n",
        "\n",
        "joblib.dump(model, \"/content/drive/My Drive/Tilburg University/Master Thesis/Combined data/Models/Logistic Regression/logistic_regression_Xray.joblib\")"
      ],
      "metadata": {
        "id": "ybx1g94QqSUa"
      },
      "execution_count": null,
      "outputs": []
    },
    {
      "cell_type": "markdown",
      "source": [
        "#Tuned Xray"
      ],
      "metadata": {
        "id": "aif0vRw4qZcD"
      }
    },
    {
      "cell_type": "code",
      "source": [
        "def objective(trial):\n",
        "    params = {\n",
        "        'random_state': 42,\n",
        "        'C': trial.suggest_float('C', 0.01, 10.0),\n",
        "        'penalty': trial.suggest_categorical('penalty', ['l2']),\n",
        "        'max_iter': trial.suggest_int('max_iter', 100, 1000),\n",
        "        'solver': trial.suggest_categorical('solver', ['newton-cg', 'lbfgs', 'liblinear', 'sag', 'saga']),\n",
        "        'fit_intercept': trial.suggest_categorical('fit_intercept', [True, False]),\n",
        "        'class_weight': trial.suggest_categorical('class_weight', [None, 'balanced']),\n",
        "        'tol': trial.suggest_float('tol', 1e-5, 1e-1),\n",
        "    }\n",
        "\n",
        "    logistic_regression_model = LogisticRegression(**params)\n",
        "\n",
        "    logistic_regression_model.fit(X_train_shuffled_Xray, y_train_shuffled_Xray)\n",
        "\n",
        "    y_pred_proba = logistic_regression_model.predict_proba(X_val_shuffled_Xray)\n",
        "\n",
        "    roc_auc = roc_auc_score(y_val_shuffled_Xray, y_pred_proba, multi_class='ovr', average='macro')\n",
        "\n",
        "    return roc_auc\n",
        "\n",
        "study = optuna.create_study(direction='maximize')\n",
        "study.optimize(objective, n_trials=200)\n",
        "\n",
        "best_params = study.best_params\n",
        "\n",
        "best_logistic_regression_model_Xray = LogisticRegression(**best_params)\n",
        "best_logistic_regression_model_Xray.fit(X_train_shuffled_Xray, y_train_shuffled_Xray)\n",
        "\n",
        "y_pred_logreg_tuned_Xray = best_logistic_regression_model_Xray.predict_proba(X_val_shuffled_Xray)\n",
        "\n",
        "roc_auc_logreg_tuned_Xray = roc_auc_score(y_val_shuffled_Xray, y_pred_logreg_tuned_Xray, multi_class='ovr', average='macro')\n",
        "print(\"Tuned Logistic Regression ROC-AUC:\", roc_auc_logreg_tuned_Xray)\n",
        "\n",
        "report_logreg_tuned_Xray = classification_report(y_val_shuffled_Xray, y_pred_logreg_tuned_Xray.argmax(axis=1))\n",
        "print(report_logreg_tuned_Xray)\n",
        "\n",
        "joblib.dump(best_logistic_regression_model_Xray, '/content/drive/My Drive/Tilburg University/Master Thesis/Combined data/Models/Logistic Regression/logistic_regression_tuned_Xray.joblib')\n"
      ],
      "metadata": {
        "id": "c-GDLQiGqa9C"
      },
      "execution_count": null,
      "outputs": []
    },
    {
      "cell_type": "markdown",
      "source": [
        "#Tuned + Class imbalance treated Xray"
      ],
      "metadata": {
        "id": "ctm0HZuPqgIc"
      }
    },
    {
      "cell_type": "code",
      "source": [
        "smote = SMOTE(random_state=42)\n",
        "X_train_smote_Xray, y_train_smote_Xray = smote.fit_resample(X_train_shuffled_Xray, y_train_shuffled_Xray)\n"
      ],
      "metadata": {
        "id": "qO-xyPtxqh6r"
      },
      "execution_count": null,
      "outputs": []
    },
    {
      "cell_type": "code",
      "source": [
        "def objective(trial):\n",
        "    params = {\n",
        "        'random_state': 42,\n",
        "        'C': trial.suggest_float('C', 0.01, 10.0),\n",
        "        'penalty': trial.suggest_categorical('penalty', ['l2']),\n",
        "        'max_iter': trial.suggest_int('max_iter', 100, 1000),\n",
        "        'solver': trial.suggest_categorical('solver', ['newton-cg', 'lbfgs', 'liblinear', 'sag', 'saga']),\n",
        "        'fit_intercept': trial.suggest_categorical('fit_intercept', [True, False]),\n",
        "        'class_weight': trial.suggest_categorical('class_weight', [None, 'balanced']),\n",
        "        'tol': trial.suggest_float('tol', 1e-5, 1e-1),\n",
        "    }\n",
        "\n",
        "    logistic_regression_model = LogisticRegression(**params)\n",
        "\n",
        "    logistic_regression_model.fit(X_train_smote_Xray, y_train_smote_Xray)\n",
        "\n",
        "    y_pred_proba = logistic_regression_model.predict_proba(X_val_shuffled_Xray)\n",
        "\n",
        "    roc_auc = roc_auc_score(y_val_shuffled_Xray, y_pred_proba, multi_class='ovr', average='macro')\n",
        "\n",
        "    return roc_auc\n",
        "\n",
        "study = optuna.create_study(direction='maximize')\n",
        "study.optimize(objective, n_trials=200)\n",
        "\n",
        "best_params = study.best_params\n",
        "\n",
        "best_logistic_regression_model_smote_Xray = LogisticRegression(**best_params)\n",
        "best_logistic_regression_model_smote_Xray.fit(X_train_smote_Xray, y_train_smote_Xray)\n",
        "\n",
        "y_pred_logreg_tuned_smote_Xray = best_logistic_regression_model_smote_Xray.predict_proba(X_val_shuffled_Xray)\n",
        "\n",
        "roc_auc_logreg_tuned_Xray = roc_auc_score(y_val_shuffled_Xray, y_pred_logreg_tuned_Xray, multi_class='ovr', average='macro')\n",
        "print(\"Tuned Logistic Regression ROC-AUC:\", roc_auc_logreg_tuned_Xray)\n",
        "\n",
        "report_logreg_tuned_smote_Xray = classification_report(y_val_shuffled_Xray, y_pred_logreg_tuned_Xray.argmax(axis=1))\n",
        "print(report_logreg_tuned_smote_Xray)\n",
        "\n",
        "joblib.dump(best_logistic_regression_model_smote_Xray, '/content/drive/My Drive/Tilburg University/Master Thesis/Combined data/Models/Logistic Regression/logistic_regression_tuned_smote_Xray.joblib')\n"
      ],
      "metadata": {
        "id": "654bBm47qixD"
      },
      "execution_count": null,
      "outputs": []
    },
    {
      "cell_type": "markdown",
      "source": [
        "#MRI Specific"
      ],
      "metadata": {
        "id": "EaaMc0u-qoC7"
      }
    },
    {
      "cell_type": "code",
      "source": [
        "X_train_MRNet = np.load(\"/content/drive/My Drive/Tilburg University/Master Thesis/Combined data/X_train_MRNet_reduced.npy\")\n",
        "X_val_MRNet = np.load(\"/content/drive/My Drive/Tilburg University/Master Thesis/Combined data/X_val_MRNet_reduced.npy\")\n",
        "y_train_MRNet = np.load(\"/content/drive/My Drive/Tilburg University/Master Thesis/Combined data/y_train_MRNet.npy\")\n",
        "y_val_MRNet = np.load(\"/content/drive/My Drive/Tilburg University/Master Thesis/Combined data/y_val_MRNet.npy\")"
      ],
      "metadata": {
        "id": "Slo2TqX_qpb7"
      },
      "execution_count": null,
      "outputs": []
    },
    {
      "cell_type": "code",
      "source": [
        "model = LogisticRegression(max_iter=1000, random_state = 42, multi_class='ovr')\n",
        "\n",
        "model.fit(X_train_MRNet, y_train_MRNet)\n",
        "\n",
        "y_pred = model.predict(X_val_MRNet)\n",
        "\n",
        "accuracy = accuracy_score(y_val_MRNet, y_pred)\n",
        "classification_report_str = classification_report(y_val_MRNet, y_pred)\n",
        "roc_auc = roc_auc_score(y_val_MRNet, model.predict_proba(X_val_MRNet)[:, 1], multi_class='ovr')\n",
        "\n",
        "print(f'Accuracy: {accuracy}')\n",
        "print('Classification Report:\\n', classification_report_str)\n",
        "print(f'ROC-AUC: {roc_auc}')\n",
        "\n",
        "\n",
        "joblib.dump(model, \"/content/drive/My Drive/Tilburg University/Master Thesis/Combined data/Models/Logistic Regression/logistic_regression_MRI.joblib\")"
      ],
      "metadata": {
        "id": "OGIvd7pTqphT"
      },
      "execution_count": null,
      "outputs": []
    },
    {
      "cell_type": "markdown",
      "source": [
        "#Tuned MRI"
      ],
      "metadata": {
        "id": "Nw7S9ZD-qupb"
      }
    },
    {
      "cell_type": "code",
      "source": [
        "def objective(trial):\n",
        "    params = {\n",
        "        'random_state': 42,\n",
        "        'C': trial.suggest_float('C', 0.01, 10.0),\n",
        "        'penalty': trial.suggest_categorical('penalty', ['l2']),\n",
        "        'max_iter': trial.suggest_int('max_iter', 100, 1000),\n",
        "        'solver': trial.suggest_categorical('solver', ['newton-cg', 'lbfgs', 'liblinear', 'sag', 'saga']),\n",
        "        'fit_intercept': trial.suggest_categorical('fit_intercept', [True, False]),\n",
        "        'class_weight': trial.suggest_categorical('class_weight', [None, 'balanced']),\n",
        "        'tol': trial.suggest_float('tol', 1e-5, 1e-1),\n",
        "    }\n",
        "\n",
        "    logistic_regression_model = LogisticRegression(**params)\n",
        "\n",
        "    logistic_regression_model.fit(X_train_MRNet, y_train_MRNet)\n",
        "\n",
        "    y_pred_proba = logistic_regression_model.predict_proba(X_val_MRNet)\n",
        "\n",
        "    roc_auc = roc_auc_score(y_val_MRNet, y_pred_proba[:, 1], multi_class='ovr', average='macro')\n",
        "\n",
        "    return roc_auc\n",
        "\n",
        "study = optuna.create_study(direction='maximize')\n",
        "study.optimize(objective, n_trials=200)\n",
        "\n",
        "best_params = study.best_params\n",
        "\n",
        "best_logistic_regression_model_MRNet = LogisticRegression(**best_params)\n",
        "best_logistic_regression_model_MRNet.fit(X_train_MRNet, y_train_MRNet)\n",
        "\n",
        "y_pred_logreg_tuned_MRNet = best_logistic_regression_model_MRNet.predict_proba(X_val_MRNet)\n",
        "\n",
        "roc_auc_logreg_tuned_MRNet = roc_auc_score(y_val_MRNet, y_pred_logreg_tuned_MRNet[:, 1], multi_class='ovr', average='macro')\n",
        "print(\"Tuned Logistic Regression ROC-AUC:\", roc_auc_logreg_tuned_MRNet)\n",
        "\n",
        "report_logreg_tuned_MRNet = classification_report(y_val_MRNet, y_pred_logreg_tuned_MRNet.argmax(axis=1))\n",
        "print(report_logreg_tuned_MRNet)\n",
        "\n",
        "joblib.dump(best_logistic_regression_model_MRNet, '/content/drive/My Drive/Tilburg University/Master Thesis/Combined data/Models/Logistic Regression/logistic_regression_tuned_MRI.joblib')\n"
      ],
      "metadata": {
        "id": "sAJpEvJPqv6T"
      },
      "execution_count": null,
      "outputs": []
    },
    {
      "cell_type": "markdown",
      "source": [
        "#Tuned + Class imbalance"
      ],
      "metadata": {
        "id": "h3CnHAYiq2Us"
      }
    },
    {
      "cell_type": "code",
      "source": [
        "smote = SMOTE(random_state=42)\n",
        "X_train_smote_MRNet, y_train_smote_MRNet = smote.fit_resample(X_train_MRNet, y_train_MRNet)\n"
      ],
      "metadata": {
        "id": "ed-sLvMrq4Ab"
      },
      "execution_count": null,
      "outputs": []
    },
    {
      "cell_type": "code",
      "source": [
        "def objective(trial):\n",
        "    params = {\n",
        "        'random_state': 42,\n",
        "        'C': trial.suggest_float('C', 0.01, 10.0),\n",
        "        'penalty': trial.suggest_categorical('penalty', ['l2']),\n",
        "        'max_iter': trial.suggest_int('max_iter', 100, 1000),\n",
        "        'solver': trial.suggest_categorical('solver', ['newton-cg', 'lbfgs', 'liblinear', 'sag', 'saga']),\n",
        "        'fit_intercept': trial.suggest_categorical('fit_intercept', [True, False]),\n",
        "        'class_weight': trial.suggest_categorical('class_weight', [None, 'balanced']),\n",
        "        'tol': trial.suggest_float('tol', 1e-5, 1e-1),\n",
        "    }\n",
        "\n",
        "    logistic_regression_model = LogisticRegression(**params)\n",
        "\n",
        "    logistic_regression_model.fit(X_train_smote_MRNet, y_train_smote_MRNet)\n",
        "\n",
        "    y_pred_proba = logistic_regression_model.predict_proba(X_val_MRNet)\n",
        "\n",
        "    roc_auc = roc_auc_score(y_val_MRNet, y_pred_proba[:, 1], multi_class='ovr', average='macro')\n",
        "\n",
        "    return roc_auc\n",
        "n\n",
        "study = optuna.create_study(direction='maximize')\n",
        "study.optimize(objective, n_trials=200)\n",
        "\n",
        "best_params = study.best_params\n",
        "\n",
        "best_logistic_regression_model_smote_MRNet = LogisticRegression(**best_params)\n",
        "best_logistic_regression_model_smote_MRNet.fit(X_train_smote_MRNet, y_train_smote_MRNet)\n",
        "\n",
        "y_pred_logreg_tuned_smote_MRNet = best_logistic_regression_model_smote_MRNet.predict_proba(X_val_MRNet)\n",
        "\n",
        "roc_auc_logreg_tuned_smote_MRNet = roc_auc_score(y_val_MRNet, y_pred_logreg_tuned_MRNet[:, 1], multi_class='ovr', average='macro')\n",
        "print(\"Tuned Logistic Regression ROC-AUC:\", roc_auc_logreg_tuned_smote_MRNet)\n",
        "\n",
        "report_logreg_tuned_smote_MRNet = classification_report(y_val_MRNet, y_pred_logreg_tuned_MRNet.argmax(axis=1))\n",
        "print(report_logreg_tuned_smote_MRNet)\n",
        "\n",
        "joblib.dump(best_logistic_regression_model_smote_MRNet, '/content/drive/My Drive/Tilburg University/Master Thesis/Combined data/Models/Logistic Regression/logistic_regression_tuned_smote_MRI.joblib')"
      ],
      "metadata": {
        "id": "JMGhgepoq5ND"
      },
      "execution_count": null,
      "outputs": []
    }
  ]
}