{
  "nbformat": 4,
  "nbformat_minor": 0,
  "metadata": {
    "colab": {
      "provenance": [],
      "authorship_tag": "ABX9TyPw3Pzc1Ae3gvyLX+i8tvJ3",
      "include_colab_link": true
    },
    "kernelspec": {
      "name": "python3",
      "display_name": "Python 3"
    },
    "language_info": {
      "name": "python"
    }
  },
  "cells": [
    {
      "cell_type": "markdown",
      "metadata": {
        "id": "view-in-github",
        "colab_type": "text"
      },
      "source": [
        "<a href=\"https://colab.research.google.com/github/NvdSuni/Thesis-code-complete/blob/main/FFN.ipynb\" target=\"_parent\"><img src=\"https://colab.research.google.com/assets/colab-badge.svg\" alt=\"Open In Colab\"/></a>"
      ]
    },
    {
      "cell_type": "code",
      "execution_count": null,
      "metadata": {
        "id": "VomKogVjrW0p"
      },
      "outputs": [],
      "source": [
        "from google.colab import drive\n",
        "drive.mount('/content/drive')\n",
        "\n",
        "!pip install optuna\n",
        "!pip install imbalanced-learn\n",
        "\n",
        "import os\n",
        "import matplotlib.pyplot as plt\n",
        "import numpy as np\n",
        "from PIL import Image\n",
        "from sklearn.metrics import accuracy_score, classification_report, roc_auc_score\n",
        "from imblearn.over_sampling import SMOTE\n",
        "import tensorflow as tf\n",
        "from tensorflow.keras import layers, models\n",
        "import optuna\n",
        "from tensorflow.keras import layers, models, optimizers\n",
        "from tensorflow.keras.callbacks import EarlyStopping\n",
        "from sklearn.utils import shuffle"
      ]
    },
    {
      "cell_type": "code",
      "source": [
        "from google.colab import drive\n",
        "from imblearn.over_sampling import SMOTE\n",
        "import optuna\n",
        "import os\n",
        "import matplotlib.pyplot as plt\n",
        "import numpy as np\n",
        "from PIL import Image\n",
        "import tensorflow as tf\n",
        "from tensorflow.keras import layers, models\n",
        "from tensorflow.keras.callbacks import EarlyStopping\n",
        "from sklearn import __version__ as sklearn_version\n",
        "from tensorflow.keras import optimizers\n",
        "\n",
        "import imblearn\n",
        "imblearn_version = imblearn.__version__\n",
        "\n",
        "print(f\"optuna: {optuna.__version__}\")\n",
        "print(f\"imbalanced-learn: {imblearn_version}\")\n",
        "print(f\"matplotlib: {plt.matplotlib.__version__}\")\n",
        "print(f\"numpy: {np.__version__}\")\n",
        "print(f\"PIL (Pillow): {Image.__version__}\")\n",
        "print(f\"tensorflow: {tf.__version__}\")\n",
        "print(f\"scikit-learn.utils: {sklearn_version}\")\n"
      ],
      "metadata": {
        "id": "Rs2g5tTmrZ9z"
      },
      "execution_count": null,
      "outputs": []
    },
    {
      "cell_type": "code",
      "source": [
        "X_train_combined = np.load(\"/content/drive/My Drive/Tilburg University/Master Thesis/Combined data/X_train_combined.npy\")\n",
        "X_val_combined = np.load(\"/content/drive/My Drive/Tilburg University/Master Thesis/Combined data/X_val_combined.npy\")\n",
        "y_train_combined = np.load(\"/content/drive/My Drive/Tilburg University/Master Thesis/Combined data/y_train_combined.npy\")\n",
        "y_val_combined = np.load(\"/content/drive/My Drive/Tilburg University/Master Thesis/Combined data/y_val_combined.npy\")"
      ],
      "metadata": {
        "id": "DX3t5wxfrcGj"
      },
      "execution_count": null,
      "outputs": []
    },
    {
      "cell_type": "markdown",
      "source": [
        "#Untuned model"
      ],
      "metadata": {
        "id": "NWLPs1ZGrdnL"
      }
    },
    {
      "cell_type": "code",
      "source": [
        "y_train_combined = tf.keras.utils.to_categorical(y_train_combined, num_classes=7)\n",
        "y_val_combined = tf.keras.utils.to_categorical(y_val_combined, num_classes=7)\n",
        "np.random.seed(42)"
      ],
      "metadata": {
        "id": "PUB6ww0crezT"
      },
      "execution_count": null,
      "outputs": []
    },
    {
      "cell_type": "code",
      "source": [
        "model = models.Sequential()\n",
        "model.add(layers.Dense(64, activation='relu', input_shape=(X_train_combined.shape[1],)))\n",
        "model.add(layers.Dense(32, activation='relu'))\n",
        "model.add(layers.Dense(7, activation='softmax'))\n",
        "\n",
        "model.compile(optimizer='adam', loss='categorical_crossentropy', metrics=['accuracy'])\n",
        "\n",
        "history = model.fit(X_train_combined, y_train_combined, epochs=30, validation_data=(X_val_combined, y_val_combined))\n",
        "\n",
        "y_pred = model.predict(X_val_combined)\n",
        "y_true = y_val_combined.argmax(axis=1)\n",
        "y_pred_classes = y_pred.argmax(axis=1)\n",
        "\n",
        "roc_auc = roc_auc_score(y_val_combined, y_pred, multi_class='ovr')\n",
        "print(f\"ROC-AUC: {roc_auc}\")\n",
        "\n",
        "print(\"Classification Report:\")\n",
        "print(classification_report(y_true, y_pred_classes))\n",
        "\n",
        "model.save(\"/content/drive/My Drive/Tilburg University/Master Thesis/Combined data/Models/FFN/FFN\")"
      ],
      "metadata": {
        "id": "83nHouMkrgk7"
      },
      "execution_count": null,
      "outputs": []
    },
    {
      "cell_type": "markdown",
      "source": [
        "#Tuned model"
      ],
      "metadata": {
        "id": "t356PDWNrjhb"
      }
    },
    {
      "cell_type": "code",
      "source": [
        "def create_model(trial):\n",
        "    model = models.Sequential()\n",
        "    model.add(layers.Dense(trial.suggest_int('units1', 32, 256), activation='relu', input_shape=(X_train_combined.shape[1],)))\n",
        "\n",
        "    num_dense_layers = trial.suggest_int('num_dense_layers', 1, 8)\n",
        "\n",
        "    for i in range(num_dense_layers):\n",
        "        model.add(layers.Dense(trial.suggest_int(f'units_dense_{i}', 16, 128), activation=trial.suggest_categorical(f'activation_dense_{i}', ['relu', 'sigmoid', 'tanh'])))\n",
        "        model.add(layers.Dropout(trial.suggest_float(f'dropout_dense_{i}', 0.0, 0.5)))\n",
        "\n",
        "    model.add(layers.Dense(7, activation='softmax'))\n",
        "\n",
        "    lr = trial.suggest_float('lr', 1e-5, 1e-1, log=True)\n",
        "\n",
        "    optimizer_name = trial.suggest_categorical('optimizer', ['adam', 'sgd'])\n",
        "\n",
        "    if optimizer_name == 'adam':\n",
        "        optimizer = optimizers.Adam(learning_rate=lr)\n",
        "    elif optimizer_name == 'sgd':\n",
        "        optimizer = optimizers.SGD(learning_rate=lr)\n",
        "    else:\n",
        "        raise ValueError(\"Invalid optimizer name\")\n",
        "\n",
        "    model.compile(\n",
        "        optimizer=optimizer,\n",
        "        loss='categorical_crossentropy',\n",
        "        metrics=[tf.keras.metrics.AUC(name='auc')]\n",
        "    )\n",
        "\n",
        "    return model\n",
        "\n",
        "def objective(trial):\n",
        "    model = create_model(trial)\n",
        "\n",
        "    early_stopping_auc = EarlyStopping(monitor='val_auc', patience=5, mode='max', restore_best_weights=True)\n",
        "\n",
        "    history = model.fit(\n",
        "        X_train_combined,\n",
        "        y_train_combined,\n",
        "        epochs=30,\n",
        "        validation_data=(X_val_combined, y_val_combined),\n",
        "        verbose=1,\n",
        "        callbacks=[early_stopping_auc]\n",
        "    )\n",
        "\n",
        "    y_pred_proba = model.predict(X_val_combined)\n",
        "    roc_auc = roc_auc_score(y_val_combined, y_pred_proba)\n",
        "\n",
        "    print(f'Trial {trial.number} ROC-AUC: {roc_auc}')\n",
        "\n",
        "    return roc_auc\n",
        "\n",
        "\n",
        "study = optuna.create_study(direction='maximize')\n",
        "study.optimize(objective, n_trials=200)\n",
        "\n",
        "\n",
        "best_params = study.best_params\n",
        "print(f\"Best Hyperparameters: {best_params}\")\n",
        "\n",
        "\n",
        "best_model = create_model(optuna.trial.FixedTrial(best_params))\n",
        "history = best_model.fit(X_train_combined, y_train_combined, epochs=30, validation_data=(X_val_combined, y_val_combined))\n",
        "\n",
        "y_pred = best_model.predict(X_val_combined)\n",
        "y_true = y_val_combined.argmax(axis=1)\n",
        "y_pred_classes = y_pred.argmax(axis=1)\n",
        "\n",
        "final_roc_auc = roc_auc_score(y_true, y_pred, multi_class='ovr')\n",
        "print(f'Final Model ROC-AUC: {final_roc_auc}')\n",
        "\n",
        "print(\"Final Model Classification Report:\")\n",
        "print(classification_report(y_true, y_pred_classes))\n",
        "\n",
        "best_model.save(\"/content/drive/My Drive/Tilburg University/Master Thesis/Combined data/Models/FFN/FFN_tuned_optuna_auc\")\n"
      ],
      "metadata": {
        "id": "Rv8C0LQCrkoD"
      },
      "execution_count": null,
      "outputs": []
    },
    {
      "cell_type": "markdown",
      "source": [
        "#Tuned model + Class imbalance treatment"
      ],
      "metadata": {
        "id": "GIqNdmJPrr3D"
      }
    },
    {
      "cell_type": "code",
      "source": [
        "smote = SMOTE(random_state=42)\n",
        "\n",
        "X_train_combined_balanced, y_train_combined_balanced = smote.fit_resample(X_train_combined, y_train_combined)"
      ],
      "metadata": {
        "id": "_j0ts9xVrtWz"
      },
      "execution_count": null,
      "outputs": []
    },
    {
      "cell_type": "code",
      "source": [
        "def create_model(trial):\n",
        "    model = models.Sequential()\n",
        "    model.add(layers.Dense(trial.suggest_int('units1', 32, 256), activation='relu', input_shape=(X_train_combined_balanced.shape[1],)))\n",
        "\n",
        "    num_dense_layers = trial.suggest_int('num_dense_layers', 1, 8)\n",
        "\n",
        "    for i in range(num_dense_layers):\n",
        "        model.add(layers.Dense(trial.suggest_int(f'units_dense_{i}', 16, 128), activation=trial.suggest_categorical(f'activation_dense_{i}', ['relu', 'sigmoid', 'tanh'])))\n",
        "        model.add(layers.Dropout(trial.suggest_float(f'dropout_dense_{i}', 0.0, 0.5)))\n",
        "\n",
        "    model.add(layers.Dense(7, activation='softmax'))\n",
        "\n",
        "    lr = trial.suggest_float('lr', 1e-5, 1e-1, log=True)\n",
        "\n",
        "    optimizer_name = trial.suggest_categorical('optimizer', ['adam', 'sgd'])\n",
        "\n",
        "    if optimizer_name == 'adam':\n",
        "        optimizer = optimizers.Adam(learning_rate=lr)\n",
        "    elif optimizer_name == 'sgd':\n",
        "        optimizer = optimizers.SGD(learning_rate=lr)\n",
        "    else:\n",
        "        raise ValueError(\"Invalid optimizer name\")\n",
        "\n",
        "    model.compile(\n",
        "        optimizer=optimizer,\n",
        "        loss='categorical_crossentropy',\n",
        "        metrics=[tf.keras.metrics.AUC(name='auc')]\n",
        "    )\n",
        "\n",
        "    return model\n",
        "\n",
        "def objective(trial):\n",
        "    model = create_model(trial)\n",
        "\n",
        "    early_stopping_auc = EarlyStopping(monitor='val_auc', patience=5, mode = 'max', restore_best_weights=True)\n",
        "\n",
        "    history = model.fit(\n",
        "        X_train_combined_balanced,\n",
        "        y_train_combined_balanced,\n",
        "        epochs=30,\n",
        "        validation_data=(X_val_combined, y_val_combined),\n",
        "        verbose=1,\n",
        "        callbacks=[early_stopping_auc]\n",
        "    )\n",
        "\n",
        "    y_pred_proba = model.predict(X_val_combined)\n",
        "    roc_auc = roc_auc_score(y_val_combined, y_pred_proba)\n",
        "\n",
        "    print(f'Trial {trial.number} ROC-AUC: {roc_auc}')\n",
        "\n",
        "\n",
        "    return roc_auc\n",
        "\n",
        "study = optuna.create_study(direction='maximize')\n",
        "study.optimize(objective, n_trials=200)\n",
        "\n",
        "\n",
        "best_params = study.best_params\n",
        "print(f\"Best Hyperparameters: {best_params}\")\n",
        "\n",
        "best_model_balanced = create_model(optuna.trial.FixedTrial(best_params))\n",
        "history = best_model_balanced.fit(X_train_combined_balanced, y_train_combined_balanced, epochs=30, validation_data=(X_val_combined, y_val_combined))\n",
        "\n",
        "\n",
        "y_pred_balanced = best_model_balanced.predict(X_val_combined)\n",
        "y_true_balanced = y_val_combined.argmax(axis=1)\n",
        "y_pred_classes_balanced = y_pred_balanced.argmax(axis=1)\n",
        "\n",
        "\n",
        "final_roc_auc = roc_auc_score(y_true, y_pred, multi_class='ovr')\n",
        "print(f'Final Model ROC-AUC: {final_roc_auc}')\n",
        "\n",
        "\n",
        "print(\"Final Model Classification Report:\")\n",
        "print(classification_report(y_true_balanced, y_pred_classes_balanced))\n",
        "\n",
        "best_model_balanced.save(\"/content/drive/My Drive/Tilburg University/Master Thesis/Combined data/Models/FFN/FFN_tuned_smote\")\n"
      ],
      "metadata": {
        "id": "CeLopZN6rukr"
      },
      "execution_count": null,
      "outputs": []
    },
    {
      "cell_type": "markdown",
      "source": [
        "#Xray specific"
      ],
      "metadata": {
        "id": "FsT6lfdNr5z8"
      }
    },
    {
      "cell_type": "code",
      "source": [
        "X_train_Xray = np.load(\"/content/drive/My Drive/Tilburg University/Master Thesis/Combined data/X_train_Xray_reduced.npy\")\n",
        "X_val_Xray = np.load(\"/content/drive/My Drive/Tilburg University/Master Thesis/Combined data/X_val_Xray_reduced.npy\")\n",
        "y_train_Xray = np.load(\"/content/drive/My Drive/Tilburg University/Master Thesis/Combined data/train_labels_complete_Xray.npy\")\n",
        "y_val_Xray = np.load(\"/content/drive/My Drive/Tilburg University/Master Thesis/Combined data/val_labels_complete_Xray.npy\")"
      ],
      "metadata": {
        "id": "lImo2rQ4r8A7"
      },
      "execution_count": null,
      "outputs": []
    },
    {
      "cell_type": "code",
      "source": [
        "from tensorflow.keras.utils import to_categorical\n",
        "\n",
        "X_train_shuffled_Xray, y_train_shuffled_Xray = shuffle(X_train_Xray, y_train_Xray, random_state=42)\n",
        "X_val_shuffled_Xray, y_val_shuffled_Xray = shuffle(X_val_Xray, y_val_Xray, random_state=42)\n",
        "\n",
        "print(X_train_shuffled_Xray.shape, y_train_shuffled_Xray.shape, X_val_shuffled_Xray.shape, y_val_shuffled_Xray.shape)\n",
        "\n",
        "print(y_train_shuffled_Xray)"
      ],
      "metadata": {
        "id": "R6tWNHvlr9dT"
      },
      "execution_count": null,
      "outputs": []
    },
    {
      "cell_type": "markdown",
      "source": [
        "#FFN Untuned: Xray"
      ],
      "metadata": {
        "id": "gCsIAsWqsAAr"
      }
    },
    {
      "cell_type": "code",
      "source": [
        "import numpy as np\n",
        "from sklearn.utils import shuffle\n",
        "from tensorflow import keras\n",
        "from tensorflow.keras import layers\n",
        "\n",
        "model_Xray = keras.Sequential([\n",
        "    layers.Dense(128, activation='relu'),\n",
        "    layers.Dense(64, activation='relu'),\n",
        "    layers.Dense(5, activation='softmax')\n",
        "])\n",
        "\n",
        "model_Xray.compile(optimizer='adam',\n",
        "              loss='categorical_crossentropy',\n",
        "              metrics=['accuracy'])\n",
        "\n",
        "history = model_Xray.fit(X_train_shuffled_Xray, y_train_shuffled_Xray, epochs=30, validation_data=(X_val_shuffled_Xray, y_val_shuffled_Xray))\n",
        "\n",
        "y_val_pred = model_Xray.predict(X_val_shuffled_Xray)\n",
        "\n",
        "y_val_pred_labels = np.argmax(y_val_pred, axis=1)\n",
        "\n",
        "print(\"Classification Report:\")\n",
        "print(classification_report(np.argmax(y_val_shuffled_Xray, axis=1), y_val_pred_labels))\n",
        "\n",
        "roc_auc_avg_Xray = roc_auc_score(y_val_shuffled_Xray, y_val_pred, average='macro')\n",
        "print(f\"Average ROC-AUC Score: {roc_auc_avg_Xray}\")\n",
        "\n",
        "model_Xray.save(\"/content/drive/My Drive/Tilburg University/Master Thesis/Combined data/Models/FFN/FFN_Xray\")"
      ],
      "metadata": {
        "id": "OK4Snow5sCjr"
      },
      "execution_count": null,
      "outputs": []
    },
    {
      "cell_type": "markdown",
      "source": [
        "#FFN Tuned: Xray"
      ],
      "metadata": {
        "id": "-Yjvd1ZesJjs"
      }
    },
    {
      "cell_type": "code",
      "source": [
        "import optuna\n",
        "import tensorflow as tf\n",
        "from tensorflow.keras import models, layers, optimizers\n",
        "from sklearn.metrics import roc_auc_score, classification_report\n",
        "from tensorflow.keras.callbacks import EarlyStopping\n",
        "\n",
        "def create_model(trial):\n",
        "    model = models.Sequential()\n",
        "    model.add(layers.Dense(trial.suggest_int('units1', 32, 256), activation='relu', input_shape=(64,)))\n",
        "\n",
        "    num_dense_layers = trial.suggest_int('num_dense_layers', 1, 8)\n",
        "\n",
        "    for i in range(num_dense_layers):\n",
        "        model.add(layers.Dense(trial.suggest_int(f'units_dense_{i}', 16, 128), activation=trial.suggest_categorical(f'activation_dense_{i}', ['relu', 'sigmoid', 'tanh'])))\n",
        "        model.add(layers.Dropout(trial.suggest_float(f'dropout_dense_{i}', 0.0, 0.5)))\n",
        "\n",
        "    model.add(layers.Dense(5, activation='softmax'))\n",
        "\n",
        "    lr = trial.suggest_float('lr', 1e-5, 1e-1, log=True)\n",
        "\n",
        "    optimizer_name = trial.suggest_categorical('optimizer', ['adam', 'sgd'])\n",
        "\n",
        "    if optimizer_name == 'adam':\n",
        "        optimizer = optimizers.Adam(learning_rate=lr)\n",
        "    elif optimizer_name == 'sgd':\n",
        "        optimizer = optimizers.SGD(learning_rate=lr)\n",
        "    else:\n",
        "        raise ValueError(\"Invalid optimizer name\")\n",
        "\n",
        "    model.compile(\n",
        "        optimizer=optimizer,\n",
        "        loss='categorical_crossentropy',\n",
        "        metrics=[tf.keras.metrics.AUC(name='auc')]\n",
        "    )\n",
        "\n",
        "    return model\n",
        "\n",
        "def objective(trial):\n",
        "    model = create_model(trial)\n",
        "\n",
        "    early_stopping = EarlyStopping(monitor='val_auc', patience=5, mode='max', restore_best_weights=True)\n",
        "\n",
        "    history = model.fit(\n",
        "        X_train_shuffled_Xray,\n",
        "        y_train_shuffled_Xray,\n",
        "        epochs=30,\n",
        "        validation_data=(X_val_shuffled_Xray, y_val_shuffled_Xray),\n",
        "        verbose=1,\n",
        "        callbacks=[early_stopping]\n",
        "    )\n",
        "\n",
        "    y_pred_proba = model.predict(X_val_shuffled_Xray)\n",
        "    roc_auc = roc_auc_score(y_val_shuffled_Xray, y_pred_proba)\n",
        "\n",
        "    print(f'Trial {trial.number} ROC-AUC: {roc_auc}')\n",
        "\n",
        "    return roc_auc\n",
        "\n",
        "study = optuna.create_study(direction='maximize')\n",
        "study.optimize(objective, n_trials=200)\n",
        "\n",
        "best_params = study.best_params\n",
        "print(f\"Best Hyperparameters: {best_params}\")\n",
        "\n",
        "best_model_Xray = create_model(optuna.trial.FixedTrial(best_params))\n",
        "history = best_model_Xray.fit(X_train_shuffled_Xray, y_train_shuffled_Xray, epochs=30, validation_data=(X_val_shuffled_Xray, y_val_shuffled_Xray))\n",
        "\n",
        "y_pred = best_model_Xray.predict(X_val_shuffled_Xray)\n",
        "y_true = np.argmax(y_val_shuffled_Xray, axis=1)\n",
        "y_pred_classes = np.argmax(y_pred, axis=1)\n",
        "\n",
        "final_roc_auc = roc_auc_score(y_true, y_pred, multi_class='ovr')\n",
        "print(f'Final Model ROC-AUC: {final_roc_auc}')\n",
        "\n",
        "print(\"Final Model Classification Report:\")\n",
        "print(classification_report(y_true, y_pred_classes))\n",
        "\n",
        "best_model_Xray.save(\"/content/drive/My Drive/Tilburg University/Master Thesis/Combined data/Models/FFN/FFN_tuned_Xray\")\n"
      ],
      "metadata": {
        "id": "tpm3JTG8sLv7"
      },
      "execution_count": null,
      "outputs": []
    },
    {
      "cell_type": "markdown",
      "source": [
        "#FFN Tuned + SMOTE - Xray"
      ],
      "metadata": {
        "id": "F79pgJiAsS7T"
      }
    },
    {
      "cell_type": "code",
      "source": [
        "smote = SMOTE(random_state=42)\n",
        "\n",
        "X_train_combined_balanced_Xray, y_train_combined_balanced_Xray = smote.fit_resample(X_train_shuffled_Xray, y_train_shuffled_Xray)"
      ],
      "metadata": {
        "id": "0cGngz58sXEj"
      },
      "execution_count": null,
      "outputs": []
    },
    {
      "cell_type": "code",
      "source": [
        "from tensorflow.keras.callbacks import EarlyStopping, ModelCheckpoint\n",
        "\n",
        "def create_model(trial):\n",
        "    model = models.Sequential()\n",
        "    model.add(layers.Dense(trial.suggest_int('units1', 32, 256), activation='relu', input_shape=(64,)))\n",
        "\n",
        "    num_dense_layers = trial.suggest_int('num_dense_layers', 1, 8)\n",
        "\n",
        "    for i in range(num_dense_layers):\n",
        "        model.add(layers.Dense(trial.suggest_int(f'units_dense_{i}', 16, 128), activation=trial.suggest_categorical(f'activation_dense_{i}', ['relu', 'sigmoid', 'tanh'])))\n",
        "        model.add(layers.Dropout(trial.suggest_float(f'dropout_dense_{i}', 0.0, 0.5)))\n",
        "\n",
        "    model.add(layers.Dense(5, activation='softmax'))\n",
        "\n",
        "    lr = trial.suggest_float('lr', 1e-5, 1e-1, log=True)\n",
        "\n",
        "    optimizer_name = trial.suggest_categorical('optimizer', ['adam', 'sgd'])\n",
        "\n",
        "    if optimizer_name == 'adam':\n",
        "        optimizer = optimizers.Adam(learning_rate=lr)\n",
        "    elif optimizer_name == 'sgd':\n",
        "        optimizer = optimizers.SGD(learning_rate=lr)\n",
        "    else:\n",
        "        raise ValueError(\"Invalid optimizer name\")\n",
        "\n",
        "    model.compile(\n",
        "        optimizer=optimizer,\n",
        "        loss='categorical_crossentropy',\n",
        "        metrics=[tf.keras.metrics.AUC(name='auc')]\n",
        "    )\n",
        "\n",
        "    return model\n",
        "\n",
        "def objective(trial):\n",
        "    model = create_model(trial)\n",
        "\n",
        "    early_stopping = EarlyStopping(monitor='val_auc', patience=5, mode='max', restore_best_weights=True)\n",
        "\n",
        "    model_checkpoint = ModelCheckpoint('best_model_FFN_Xray_specific_tuned_class_imbalance.h5', monitor='val_auc', mode='max', save_best_only=True)\n",
        "\n",
        "\n",
        "    history = model.fit(\n",
        "        X_train_combined_balanced_Xray,\n",
        "        y_train_combined_balanced_Xray,\n",
        "        epochs=30,\n",
        "        validation_data=(X_val_shuffled_Xray, y_val_shuffled_Xray),\n",
        "        verbose=1,\n",
        "        callbacks=[early_stopping]\n",
        "    )\n",
        "\n",
        "    y_pred_proba = model.predict(X_val_shuffled_Xray)\n",
        "    roc_auc = roc_auc_score(y_val_shuffled_Xray, y_pred_proba)\n",
        "\n",
        "    print(f'Trial {trial.number} ROC-AUC: {roc_auc}')\n",
        "\n",
        "    return roc_auc\n",
        "\n",
        "study = optuna.create_study(direction='maximize')\n",
        "study.optimize(objective, n_trials=200)\n",
        "\n",
        "best_params = study.best_params\n",
        "print(f\"Best Hyperparameters: {best_params}\")\n",
        "\n",
        "best_model_smote_Xray = create_model(optuna.trial.FixedTrial(best_params))\n",
        "history = best_model_smote_Xray.fit(X_train_combined_balanced_Xray, y_train_combined_balanced_Xray, epochs=30, validation_data=(X_val_shuffled_Xray, y_val_shuffled_Xray))\n",
        "\n",
        "y_pred = best_model_smote_Xray.predict(X_val_shuffled_Xray)\n",
        "y_true = np.argmax(y_val_shuffled_Xray, axis=1)\n",
        "y_pred_classes = np.argmax(y_pred, axis=1)\n",
        "\n",
        "final_roc_auc = roc_auc_score(y_true, y_pred, multi_class='ovr')\n",
        "print(f'Final Model ROC-AUC: {final_roc_auc}')\n",
        "\n",
        "print(\"Final Model Classification Report:\")\n",
        "print(classification_report(y_true, y_pred_classes))\n",
        "\n",
        "best_model_smote_Xray.save(\"/content/drive/My Drive/Tilburg University/Master Thesis/Combined data/Models/FFN/FFN_tuned_smote_Xray\")\n"
      ],
      "metadata": {
        "id": "ZgXVVaIRsYyT"
      },
      "execution_count": null,
      "outputs": []
    },
    {
      "cell_type": "markdown",
      "source": [
        "#MRI Specific"
      ],
      "metadata": {
        "id": "vayXRuQJsc1T"
      }
    },
    {
      "cell_type": "code",
      "source": [
        "X_train_MRNet = np.load(\"/content/drive/My Drive/Tilburg University/Master Thesis/Combined data/X_train_MRNet_reduced.npy\")\n",
        "X_val_MRNet = np.load(\"/content/drive/My Drive/Tilburg University/Master Thesis/Combined data/X_val_MRNet_reduced.npy\")\n",
        "y_train_MRNet = np.load(\"/content/drive/My Drive/Tilburg University/Master Thesis/Combined data/y_train_MRNet.npy\")\n",
        "y_val_MRNet = np.load(\"/content/drive/My Drive/Tilburg University/Master Thesis/Combined data/y_val_MRNet.npy\")"
      ],
      "metadata": {
        "id": "AXH3nvX8sdzD"
      },
      "execution_count": null,
      "outputs": []
    },
    {
      "cell_type": "code",
      "source": [
        "model_MRI = keras.Sequential([\n",
        "    layers.Dense(128, activation='relu'),\n",
        "    layers.Dense(64, activation='relu'),\n",
        "    layers.Dense(1, activation='sigmoid')\n",
        "])\n",
        "\n",
        "model_MRI.compile(optimizer='adam',\n",
        "              loss='binary_crossentropy',\n",
        "              metrics=[tf.keras.metrics.AUC(name='auc')])\n",
        "\n",
        "\n",
        "history = model_MRI.fit(X_train_MRNet, y_train_MRNet, epochs=30, validation_data=(X_val_MRNet, y_val_MRNet))\n",
        "\n",
        "\n",
        "y_val_pred = model_MRI.predict(X_val_MRNet)\n",
        "\n",
        "\n",
        "y_val_pred_labels = (y_val_pred > 0.5).astype(int)\n",
        "\n",
        "print(\"Classification Report:\")\n",
        "print(classification_report(y_val_MRNet, y_val_pred_labels))\n",
        "\n",
        "roc_auc = roc_auc_score(y_val_MRNet, y_val_pred)\n",
        "print(f\"ROC-AUC Score: {roc_auc}\")\n",
        "\n",
        "model_MRI.save(\"/content/drive/My Drive/Tilburg University/Master Thesis/Combined data/Models/FFN/FFN_MRI\")"
      ],
      "metadata": {
        "id": "yqWrAxzoserb"
      },
      "execution_count": null,
      "outputs": []
    },
    {
      "cell_type": "markdown",
      "source": [
        "#MRI Tuned"
      ],
      "metadata": {
        "id": "2ixm5PlosjoT"
      }
    },
    {
      "cell_type": "code",
      "source": [
        "def create_model(trial):\n",
        "    model = keras.Sequential()\n",
        "    model.add(layers.Dense(trial.suggest_int('units1', 32, 256), activation='relu', input_shape=(64,)))\n",
        "\n",
        "    num_dense_layers = trial.suggest_int('num_dense_layers', 1, 8)\n",
        "\n",
        "    for i in range(num_dense_layers):\n",
        "        model.add(layers.Dense(trial.suggest_int(f'units_dense_{i}', 16, 128), activation=trial.suggest_categorical(f'activation_dense_{i}', ['relu', 'sigmoid', 'tanh'])))\n",
        "        model.add(layers.Dropout(trial.suggest_float(f'dropout_dense_{i}', 0.0, 0.5)))\n",
        "\n",
        "    model.add(layers.Dense(1, activation='sigmoid'))\n",
        "\n",
        "    lr = trial.suggest_float('lr', 1e-5, 1e-1, log=True)\n",
        "\n",
        "    optimizer_name = trial.suggest_categorical('optimizer', ['adam', 'sgd'])\n",
        "\n",
        "    if optimizer_name == 'adam':\n",
        "        optimizer = optimizers.Adam(learning_rate=lr)\n",
        "    elif optimizer_name == 'sgd':\n",
        "        optimizer = optimizers.SGD(learning_rate=lr)\n",
        "    else:\n",
        "        raise ValueError(\"Invalid optimizer name\")\n",
        "\n",
        "    model.compile(\n",
        "        optimizer=optimizer,\n",
        "        loss='binary_crossentropy',\n",
        "        metrics=[tf.keras.metrics.AUC(name='auc')]\n",
        "    )\n",
        "\n",
        "    return model\n",
        "\n",
        "def objective(trial):\n",
        "    model = create_model(trial)\n",
        "\n",
        "    early_stopping = keras.callbacks.EarlyStopping(monitor='val_auc', patience=5, mode='max', restore_best_weights=True)\n",
        "\n",
        "    model_checkpoint = ModelCheckpoint('best_model_FFN_Xray_specific_tuned.h5', monitor='val_auc', mode='max', save_best_only=True)\n",
        "\n",
        "    history = model.fit(\n",
        "        X_train_MRNet,\n",
        "        y_train_MRNet,\n",
        "        epochs=30,\n",
        "        validation_data=(X_val_MRNet, y_val_MRNet),\n",
        "        verbose=1,\n",
        "        callbacks=[early_stopping]\n",
        "    )\n",
        "\n",
        "    y_pred_proba = model.predict(X_val_MRNet)\n",
        "    roc_auc = roc_auc_score(y_val_MRNet, y_pred_proba)\n",
        "\n",
        "    print(f'Trial {trial.number} ROC-AUC: {roc_auc}')\n",
        "\n",
        "    return roc_auc\n",
        "\n",
        "\n",
        "study = optuna.create_study(direction='maximize')\n",
        "study.optimize(objective, n_trials=200)\n",
        "\n",
        "\n",
        "best_params = study.best_params\n",
        "print(f\"Best Hyperparameters: {best_params}\")\n",
        "\n",
        "best_model_MRI = create_model(optuna.trial.FixedTrial(best_params))\n",
        "history = best_model_MRI.fit(X_train_MRNet, y_train_MRNet, epochs=30, validation_data=(X_val_MRNet, y_val_MRNet))\n",
        "\n",
        "y_pred = best_model_MRI.predict(X_val_MRNet)\n",
        "y_pred_classes = (y_pred > 0.5).astype(int)\n",
        "y_true = y_val_MRNet\n",
        "\n",
        "final_roc_auc = roc_auc_score(y_true, y_pred)\n",
        "print(f'Final Model ROC-AUC: {final_roc_auc}')\n",
        "\n",
        "print(\"Final Model Classification Report:\")\n",
        "print(classification_report(y_true, y_pred_classes))\n",
        "\n",
        "best_model_MRI.save(\"/content/drive/My Drive/Tilburg University/Master Thesis/Combined data/Models/FFN/FFN_tuned_MRI\")"
      ],
      "metadata": {
        "id": "4cMssMvlsle0"
      },
      "execution_count": null,
      "outputs": []
    },
    {
      "cell_type": "markdown",
      "source": [
        "#MRI Tuned + SMOTE"
      ],
      "metadata": {
        "id": "8oVHMbIcsqcz"
      }
    },
    {
      "cell_type": "code",
      "source": [
        "smote = SMOTE(random_state=42)\n",
        "\n",
        "X_train_combined_balanced_MRNet, y_train_combined_balanced_MRNet = smote.fit_resample(X_train_MRNet, y_train_MRNet)"
      ],
      "metadata": {
        "id": "AOPhPdl2sr4V"
      },
      "execution_count": null,
      "outputs": []
    },
    {
      "cell_type": "code",
      "source": [
        "def create_model(trial):\n",
        "    model = keras.Sequential()\n",
        "    model.add(layers.Dense(trial.suggest_int('units1', 32, 256), activation='relu', input_shape=(64,)))\n",
        "\n",
        "    num_dense_layers = trial.suggest_int('num_dense_layers', 1, 8)\n",
        "\n",
        "    for i in range(num_dense_layers):\n",
        "        model.add(layers.Dense(trial.suggest_int(f'units_dense_{i}', 16, 128), activation=trial.suggest_categorical(f'activation_dense_{i}', ['relu', 'sigmoid', 'tanh'])))\n",
        "        model.add(layers.Dropout(trial.suggest_float(f'dropout_dense_{i}', 0.0, 0.5)))\n",
        "\n",
        "    model.add(layers.Dense(1, activation='sigmoid'))\n",
        "\n",
        "    lr = trial.suggest_float('lr', 1e-5, 1e-1, log=True)\n",
        "\n",
        "    optimizer_name = trial.suggest_categorical('optimizer', ['adam', 'sgd'])\n",
        "\n",
        "    if optimizer_name == 'adam':\n",
        "        optimizer = optimizers.Adam(learning_rate=lr)\n",
        "    elif optimizer_name == 'sgd':\n",
        "        optimizer = optimizers.SGD(learning_rate=lr)\n",
        "    else:\n",
        "        raise ValueError(\"Invalid optimizer name\")\n",
        "\n",
        "    model.compile(\n",
        "        optimizer=optimizer,\n",
        "        loss='binary_crossentropy',\n",
        "        metrics=[tf.keras.metrics.AUC(name='auc')]\n",
        "    )\n",
        "\n",
        "    return model\n",
        "\n",
        "def objective(trial):\n",
        "    model = create_model(trial)\n",
        "\n",
        "    early_stopping = keras.callbacks.EarlyStopping(monitor='val_auc', patience=5, mode='max', restore_best_weights=True)\n",
        "\n",
        "    model_checkpoint = ModelCheckpoint('best_model_FFN_Xray_specific_tuned_class_imbalance.h5', monitor='val_auc', mode='max', save_best_only=True)\n",
        "\n",
        "    history = model.fit(\n",
        "        X_train_combined_balanced_MRNet,\n",
        "        y_train_combined_balanced_MRNet,\n",
        "        epochs=30,\n",
        "        validation_data=(X_val_MRNet, y_val_MRNet),\n",
        "        verbose=1,\n",
        "        callbacks=[early_stopping]\n",
        "    )\n",
        "\n",
        "    y_pred_proba = model.predict(X_val_MRNet)\n",
        "    roc_auc = roc_auc_score(y_val_MRNet, y_pred_proba)\n",
        "\n",
        "    print(f'Trial {trial.number} ROC-AUC: {roc_auc}')\n",
        "\n",
        "    return roc_auc\n",
        "\n",
        "study = optuna.create_study(direction='maximize')\n",
        "study.optimize(objective, n_trials=200)\n",
        "\n",
        "best_params = study.best_params\n",
        "print(f\"Best Hyperparameters: {best_params}\")\n",
        "\n",
        "best_model_smote_MRI = create_model(optuna.trial.FixedTrial(best_params))\n",
        "history = best_model_smote_MRI.fit(X_train_combined_balanced_MRNet, y_train_combined_balanced_MRNet, epochs=30, validation_data=(X_val_MRNet, y_val_MRNet))\n",
        "\n",
        "y_pred = best_model_smote_MRI.predict(X_val_MRNet)\n",
        "y_pred_classes = (y_pred > 0.5).astype(int)\n",
        "y_true = y_val_MRNet\n",
        "\n",
        "final_roc_auc = roc_auc_score(y_true, y_pred)\n",
        "print(f'Final Model ROC-AUC: {final_roc_auc}')\n",
        "\n",
        "print(\"Final Model Classification Report:\")\n",
        "print(classification_report(y_true, y_pred_classes))\n",
        "\n",
        "best_model_smote_MRI.save(\"/content/drive/My Drive/Tilburg University/Master Thesis/Combined data/Models/FFN/FFN_tuned_smote_MRI\")\n"
      ],
      "metadata": {
        "id": "WrSlijz7stqD"
      },
      "execution_count": null,
      "outputs": []
    }
  ]
}